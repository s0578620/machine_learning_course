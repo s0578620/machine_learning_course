{
 "cells": [
  {
   "cell_type": "markdown",
   "source": [
    "# Datenarten\n",
    "1) Metrisch -   Zahlen, meist stetig / Abstände haben eine Bedeutung\n",
    "    -> Daten können direkt für Lineare Regression verwendet werden\n",
    "2) Ordinal  -   Rangordnung / Abstände haben unterschiedliche o. unbestimmte Größe (Schulnoten)\n",
    "    -> z.B. Baby = 1, Kleinkind = 2, Jugendlicher = 3 ->\n",
    "3) Nominal  -   Keine Rangordnung (OS/Geschlecht) /\n",
    "    -> Daten müssen aufbereitet werden (mit z.B. \"One Hot Encoding\")"
   ],
   "metadata": {
    "collapsed": false,
    "pycharm": {
     "name": "#%% md\n"
    }
   }
  },
  {
   "cell_type": "code",
   "execution_count": 37,
   "outputs": [
    {
     "data": {
      "text/plain": "     Gewinn  Preis in Mio  Quadratmeter  Stadt_Berlin  Stadt_Köln  \\\n0  119000.0         21.88        3938.0             1           0   \n1  250000.0         27.95        3986.0             0           0   \n2  250000.0         16.09        2574.0             0           1   \n3  145000.0         27.58        4155.0             0           0   \n4  110000.0         23.76        3795.0             1           0   \n\n   Stadt_München  \n0              0  \n1              1  \n2              0  \n3              1  \n4              0  ",
      "text/html": "<div>\n<style scoped>\n    .dataframe tbody tr th:only-of-type {\n        vertical-align: middle;\n    }\n\n    .dataframe tbody tr th {\n        vertical-align: top;\n    }\n\n    .dataframe thead th {\n        text-align: right;\n    }\n</style>\n<table border=\"1\" class=\"dataframe\">\n  <thead>\n    <tr style=\"text-align: right;\">\n      <th></th>\n      <th>Gewinn</th>\n      <th>Preis in Mio</th>\n      <th>Quadratmeter</th>\n      <th>Stadt_Berlin</th>\n      <th>Stadt_Köln</th>\n      <th>Stadt_München</th>\n    </tr>\n  </thead>\n  <tbody>\n    <tr>\n      <th>0</th>\n      <td>119000.0</td>\n      <td>21.88</td>\n      <td>3938.0</td>\n      <td>1</td>\n      <td>0</td>\n      <td>0</td>\n    </tr>\n    <tr>\n      <th>1</th>\n      <td>250000.0</td>\n      <td>27.95</td>\n      <td>3986.0</td>\n      <td>0</td>\n      <td>0</td>\n      <td>1</td>\n    </tr>\n    <tr>\n      <th>2</th>\n      <td>250000.0</td>\n      <td>16.09</td>\n      <td>2574.0</td>\n      <td>0</td>\n      <td>1</td>\n      <td>0</td>\n    </tr>\n    <tr>\n      <th>3</th>\n      <td>145000.0</td>\n      <td>27.58</td>\n      <td>4155.0</td>\n      <td>0</td>\n      <td>0</td>\n      <td>1</td>\n    </tr>\n    <tr>\n      <th>4</th>\n      <td>110000.0</td>\n      <td>23.76</td>\n      <td>3795.0</td>\n      <td>1</td>\n      <td>0</td>\n      <td>0</td>\n    </tr>\n  </tbody>\n</table>\n</div>"
     },
     "execution_count": 37,
     "metadata": {},
     "output_type": "execute_result"
    }
   ],
   "source": [
    "import pandas as pd\n",
    "\n",
    "df = pd.read_csv(\"./hotels.csv\")\n",
    "df = pd.get_dummies(df, columns = [\"Stadt\"])\n",
    "df.head()"
   ],
   "metadata": {
    "collapsed": false,
    "pycharm": {
     "name": "#%%\n"
    }
   }
  },
  {
   "cell_type": "code",
   "execution_count": 38,
   "outputs": [],
   "source": [
    "#pd.get_dummies(df, columns = [\"Stadt\"]) # One Hot Encoding\n"
   ],
   "metadata": {
    "collapsed": false,
    "pycharm": {
     "name": "#%%\n"
    }
   }
  },
  {
   "cell_type": "code",
   "execution_count": 39,
   "outputs": [],
   "source": [
    "Y =  df[[\"Preis in Mio\"]].values    # vorhersage\n",
    "\n",
    "# Option 1: Explizit auflisten, welche Spalten wir in X haben möchten\n",
    "X = df[[\"Gewinn\", \"Quadratmeter\", \"Stadt_Berlin\", \"Stadt_Köln\"]].values\n",
    "\n",
    "# Option 2: Explizit auflisten, welche Spalten wir **nicht** in X haben möchten\n",
    "# df.drop(labels = [\"Preis in Mio\", \"Stadt_München\"], axis = 1).values  # axis = 1 = spalten bezug"
   ],
   "metadata": {
    "collapsed": false,
    "pycharm": {
     "name": "#%%\n"
    }
   }
  },
  {
   "cell_type": "markdown",
   "source": [
    "## Train / Test"
   ],
   "metadata": {
    "collapsed": false,
    "pycharm": {
     "name": "#%% md\n"
    }
   }
  },
  {
   "cell_type": "code",
   "execution_count": 40,
   "outputs": [],
   "source": [
    "from sklearn.model_selection import train_test_split    # libary -> zum daten aufsplitten\n",
    "\n",
    "# audfteilung der werte X,Y auf deklaration //  random_state = rnd aufteilen // test_size = prozentualer anteil für test daten\n",
    "X_train, X_test, y_train, y_test = train_test_split(X, Y, random_state = 0, test_size = 0.25)"
   ],
   "metadata": {
    "collapsed": false,
    "pycharm": {
     "name": "#%%\n"
    }
   }
  },
  {
   "cell_type": "markdown",
   "source": [
    "## Lineare Regression"
   ],
   "metadata": {
    "collapsed": false,
    "pycharm": {
     "name": "#%% md\n"
    }
   }
  },
  {
   "cell_type": "code",
   "execution_count": 42,
   "outputs": [
    {
     "name": "stdout",
     "output_type": "stream",
     "text": [
      "0.9688135511825554\n"
     ]
    }
   ],
   "source": [
    "from sklearn.linear_model import LinearRegression\n",
    "model = LinearRegression()\n",
    "model.fit(X_train, y_train)\n",
    "print(model.score(X_test, y_test))"
   ],
   "metadata": {
    "collapsed": false,
    "pycharm": {
     "name": "#%%\n"
    }
   }
  },
  {
   "cell_type": "markdown",
   "source": [
    "## Result\n",
    "1) ohne Städte 0.878...\n",
    "2) mit Städten 0,968..."
   ],
   "metadata": {
    "collapsed": false,
    "pycharm": {
     "name": "#%% md\n"
    }
   }
  },
  {
   "cell_type": "code",
   "execution_count": 43,
   "outputs": [
    {
     "data": {
      "text/plain": "array([[ 1.13058247e-05,  3.88104273e-03, -3.27562421e+00,\n        -6.22584051e+00]])"
     },
     "execution_count": 43,
     "metadata": {},
     "output_type": "execute_result"
    }
   ],
   "source": [
    "model.coef_ # Einfluss der Variablen auf den Preis\n",
    "#model.predict([[10000, 300, 0, 0], [10000, 300, 1, 0], [10000, 300, 0, 1]])    # 1. Gewinn, m² ,stadt , stadt # verkaufs"
   ],
   "metadata": {
    "collapsed": false,
    "pycharm": {
     "name": "#%%\n"
    }
   }
  },
  {
   "cell_type": "code",
   "execution_count": null,
   "outputs": [],
   "source": [],
   "metadata": {
    "collapsed": false,
    "pycharm": {
     "name": "#%%\n"
    }
   }
  }
 ],
 "metadata": {
  "kernelspec": {
   "display_name": "Python 3",
   "language": "python",
   "name": "python3"
  },
  "language_info": {
   "codemirror_mode": {
    "name": "ipython",
    "version": 2
   },
   "file_extension": ".py",
   "mimetype": "text/x-python",
   "name": "python",
   "nbconvert_exporter": "python",
   "pygments_lexer": "ipython2",
   "version": "2.7.6"
  }
 },
 "nbformat": 4,
 "nbformat_minor": 0
}