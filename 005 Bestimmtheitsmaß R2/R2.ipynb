{
 "cells": [
  {
   "cell_type": "markdown",
   "source": [
    "# Bestimmtheitsmaß"
   ],
   "metadata": {
    "collapsed": false,
    "pycharm": {
     "name": "#%% md\n"
    }
   }
  },
  {
   "cell_type": "code",
   "execution_count": 8,
   "outputs": [],
   "source": [
    "import pandas as pd\n",
    "\n",
    "df = pd.read_csv(\"./hotels.csv\")"
   ],
   "metadata": {
    "collapsed": false,
    "pycharm": {
     "name": "#%%\n"
    }
   }
  },
  {
   "cell_type": "code",
   "execution_count": 9,
   "outputs": [
    {
     "data": {
      "text/plain": "     Gewinn  Preis in Mio  Quadratmeter    Stadt\n0  119000.0         21.88        3938.0   Berlin\n1  250000.0         27.95        3986.0  München\n2  250000.0         16.09        2574.0     Köln\n3  145000.0         27.58        4155.0  München\n4  110000.0         23.76        3795.0   Berlin",
      "text/html": "<div>\n<style scoped>\n    .dataframe tbody tr th:only-of-type {\n        vertical-align: middle;\n    }\n\n    .dataframe tbody tr th {\n        vertical-align: top;\n    }\n\n    .dataframe thead th {\n        text-align: right;\n    }\n</style>\n<table border=\"1\" class=\"dataframe\">\n  <thead>\n    <tr style=\"text-align: right;\">\n      <th></th>\n      <th>Gewinn</th>\n      <th>Preis in Mio</th>\n      <th>Quadratmeter</th>\n      <th>Stadt</th>\n    </tr>\n  </thead>\n  <tbody>\n    <tr>\n      <th>0</th>\n      <td>119000.0</td>\n      <td>21.88</td>\n      <td>3938.0</td>\n      <td>Berlin</td>\n    </tr>\n    <tr>\n      <th>1</th>\n      <td>250000.0</td>\n      <td>27.95</td>\n      <td>3986.0</td>\n      <td>München</td>\n    </tr>\n    <tr>\n      <th>2</th>\n      <td>250000.0</td>\n      <td>16.09</td>\n      <td>2574.0</td>\n      <td>Köln</td>\n    </tr>\n    <tr>\n      <th>3</th>\n      <td>145000.0</td>\n      <td>27.58</td>\n      <td>4155.0</td>\n      <td>München</td>\n    </tr>\n    <tr>\n      <th>4</th>\n      <td>110000.0</td>\n      <td>23.76</td>\n      <td>3795.0</td>\n      <td>Berlin</td>\n    </tr>\n  </tbody>\n</table>\n</div>"
     },
     "execution_count": 9,
     "metadata": {},
     "output_type": "execute_result"
    }
   ],
   "source": [
    "df.head()"
   ],
   "metadata": {
    "collapsed": false,
    "pycharm": {
     "name": "#%%\n"
    }
   }
  },
  {
   "cell_type": "code",
   "execution_count": 10,
   "outputs": [],
   "source": [
    "from sklearn.model_selection import train_test_split\n",
    "\n",
    "X = df[[\"Gewinn\", \"Quadratmeter\"]].values   #ursprungsdaten\n",
    "Y = df[[\"Preis in Mio\"]].values             # daten zum schätzen\n",
    "\n",
    "X_train, X_test, y_train, y_test = train_test_split(X, Y, random_state = 0, test_size = 0.25)"
   ],
   "metadata": {
    "collapsed": false,
    "pycharm": {
     "name": "#%%\n"
    }
   }
  },
  {
   "cell_type": "code",
   "execution_count": 14,
   "outputs": [
    {
     "name": "stdout",
     "output_type": "stream",
     "text": [
      "LinearRegression()\n"
     ]
    }
   ],
   "source": [
    "from sklearn.linear_model import LinearRegression\n",
    "\n",
    "model = LinearRegression()\n",
    "model.fit(X_train, y_train) # y Werte aufgrund der Variablen der x Werte (Gewinn,m²) bestimmen\n",
    "\n",
    "print(model)"
   ],
   "metadata": {
    "collapsed": false,
    "pycharm": {
     "name": "#%%\n"
    }
   }
  },
  {
   "cell_type": "markdown",
   "source": [
    "## R2\n",
    "Bestimmtheitsmaß ausrechnen\n",
    "schlechtestes Model < 0 // schlechtes Modell = 0 // < 1 gutes Modell //  1 optimales Modell"
   ],
   "metadata": {
    "collapsed": false,
    "pycharm": {
     "name": "#%% md\n"
    }
   }
  },
  {
   "cell_type": "code",
   "execution_count": 19,
   "outputs": [
    {
     "name": "stdout",
     "output_type": "stream",
     "text": [
      "0.8783249527580935\n"
     ]
    }
   ],
   "source": [
    "y_test_pred = model.predict(X_test)     # y_test_pred aufgrund der x_test daten\n",
    "\n",
    "from sklearn.metrics import r2_score    #bestimmtheitsmaß\n",
    "\n",
    "r2 = r2_score(y_test, y_test_pred)  # erst echte daten y, dann schätzung vom model\n",
    "print(r2)"
   ],
   "metadata": {
    "collapsed": false,
    "pycharm": {
     "name": "#%%\n"
    }
   }
  },
  {
   "cell_type": "code",
   "execution_count": 13,
   "outputs": [
    {
     "name": "stdout",
     "output_type": "stream",
     "text": [
      "0.8783249527580935\n"
     ]
    }
   ],
   "source": [
    "#beinhaltet vorherige Cell (kürzere Schreibweise)\n",
    "from sklearn.linear_model import LinearRegression\n",
    "\n",
    "model = LinearRegression()\n",
    "model.fit(X_train, y_train)\n",
    "\n",
    "print(model.score(X_test, y_test))"
   ],
   "metadata": {
    "collapsed": false,
    "pycharm": {
     "name": "#%%\n"
    }
   }
  }
 ],
 "metadata": {
  "kernelspec": {
   "display_name": "Python 3",
   "language": "python",
   "name": "python3"
  },
  "language_info": {
   "codemirror_mode": {
    "name": "ipython",
    "version": 2
   },
   "file_extension": ".py",
   "mimetype": "text/x-python",
   "name": "python",
   "nbconvert_exporter": "python",
   "pygments_lexer": "ipython2",
   "version": "2.7.6"
  }
 },
 "nbformat": 4,
 "nbformat_minor": 0
}