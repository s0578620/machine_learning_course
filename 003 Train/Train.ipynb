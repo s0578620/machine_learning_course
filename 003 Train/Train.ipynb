{
 "cells": [
  {
   "cell_type": "markdown",
   "source": [
    "# Train test"
   ],
   "metadata": {
    "collapsed": false,
    "pycharm": {
     "name": "#%% md\n"
    }
   }
  },
  {
   "cell_type": "markdown",
   "source": [
    "Daten werden aufgeteilt\n",
    "z.B.\n",
    "   1) 3/4 Daten für Training\n",
    "   2) 1/4 Daten zum Testen\n",
    "-> Performance vom Modell abschätzen\n",
    "\n",
    "Daten müssen gleichmäßig aufgteilt werden   : 11,12,13,91,91,92\n",
    "Schlecht :\n",
    "    1) Train 11,12,13\n",
    "    1) Test 91,92\n",
    "\n",
    "-> Rnd i.d.R. am besten"
   ],
   "metadata": {
    "collapsed": false,
    "pycharm": {
     "name": "#%% md\n"
    }
   }
  },
  {
   "cell_type": "code",
   "execution_count": 10,
   "outputs": [],
   "source": [
    "import pandas as pd #import pandas libary (working with csv file)\n",
    "\n",
    "csvdata = pd.read_csv(\"wohnungspreise.csv\") # pd.read_excel(\"filename.xlsx\") // pd.read_csv(\"filename.csv\", sep=\";\")"
   ],
   "metadata": {
    "collapsed": false,
    "pycharm": {
     "name": "#%%\n"
    }
   }
  },
  {
   "cell_type": "code",
   "execution_count": 11,
   "outputs": [
    {
     "data": {
      "text/plain": "   Quadratmeter  Verkaufspreis\n0            70         351000\n1            72         390000\n2            91         473000\n3            58         282000\n4            49         300000",
      "text/html": "<div>\n<style scoped>\n    .dataframe tbody tr th:only-of-type {\n        vertical-align: middle;\n    }\n\n    .dataframe tbody tr th {\n        vertical-align: top;\n    }\n\n    .dataframe thead th {\n        text-align: right;\n    }\n</style>\n<table border=\"1\" class=\"dataframe\">\n  <thead>\n    <tr style=\"text-align: right;\">\n      <th></th>\n      <th>Quadratmeter</th>\n      <th>Verkaufspreis</th>\n    </tr>\n  </thead>\n  <tbody>\n    <tr>\n      <th>0</th>\n      <td>70</td>\n      <td>351000</td>\n    </tr>\n    <tr>\n      <th>1</th>\n      <td>72</td>\n      <td>390000</td>\n    </tr>\n    <tr>\n      <th>2</th>\n      <td>91</td>\n      <td>473000</td>\n    </tr>\n    <tr>\n      <th>3</th>\n      <td>58</td>\n      <td>282000</td>\n    </tr>\n    <tr>\n      <th>4</th>\n      <td>49</td>\n      <td>300000</td>\n    </tr>\n  </tbody>\n</table>\n</div>"
     },
     "execution_count": 11,
     "metadata": {},
     "output_type": "execute_result"
    }
   ],
   "source": [
    "csvdata.head()"
   ],
   "metadata": {
    "collapsed": false,
    "pycharm": {
     "name": "#%%\n"
    }
   }
  },
  {
   "cell_type": "code",
   "execution_count": 12,
   "outputs": [],
   "source": [
    "from sklearn.model_selection import train_test_split    # libary -> zum daten aufsplitten\n",
    "\n",
    "X = csvdata[[\"Quadratmeter\"]].values    # safe only values (without header = second [])\n",
    "Y = csvdata[[\"Verkaufspreis\"]].values   # numpy array\n",
    "\n",
    "# audfteilung der werte X,Y auf deklaration //  random_state = rnd aufteilen // test_size = prozentualer anteil für test daten\n",
    "X_train, X_test, y_train, y_test = train_test_split(X, Y, random_state = 0, test_size = 0.25)"
   ],
   "metadata": {
    "collapsed": false,
    "pycharm": {
     "name": "#%%\n"
    }
   }
  },
  {
   "cell_type": "code",
   "execution_count": 13,
   "outputs": [
    {
     "data": {
      "text/plain": "<Figure size 432x288 with 1 Axes>",
      "image/png": "[encoded data removed]"
     },
     "metadata": {
      "needs_background": "light"
     },
     "output_type": "display_data"
    }
   ],
   "source": [
    "%matplotlib inline\n",
    "import matplotlib.pyplot as plt\n",
    "\n",
    "plt.scatter(X_train, y_train)   # scatter plot (Punktediagramm)\n",
    "plt.scatter(X_test, y_test, color = \"red\")  # scatter plot (Punktediagramm)\n",
    "plt.show()\n",
    "#blau = testdaten   //  rot = trainingsdaten\n"
   ],
   "metadata": {
    "collapsed": false,
    "pycharm": {
     "name": "#%%\n"
    }
   }
  },
  {
   "cell_type": "code",
   "execution_count": 14,
   "outputs": [
    {
     "name": "stdout",
     "output_type": "stream",
     "text": [
      "Intercept: [-11170.16669668]\n",
      "Coef: [[5282.55588241]]\n"
     ]
    }
   ],
   "source": [
    "from sklearn.linear_model import LinearRegression   # libary -> machine learning tools\n",
    "\n",
    "model = LinearRegression()  # select \"Lineales Regressionsmodell\"\n",
    "model.fit(X_train, y_train)  # model den daten anpassen\n",
    "\n",
    "print(\"Intercept: \" + str(model.intercept_))    # Parameter für Geradengleichung (Konstante)\n",
    "print(\"Coef: \" + str(model.coef_))  # Parameter für Geradengleichung (Koeffizient)"
   ],
   "metadata": {
    "collapsed": false,
    "pycharm": {
     "name": "#%%\n"
    }
   }
  },
  {
   "cell_type": "code",
   "execution_count": 15,
   "outputs": [
    {
     "data": {
      "text/plain": "<Figure size 432x288 with 1 Axes>",
      "image/png": "[encoded data removed]"
     },
     "metadata": {
      "needs_background": "light"
     },
     "output_type": "display_data"
    }
   ],
   "source": [
    "%matplotlib inline\n",
    "# Command above: generate graphics in actual notebook\n",
    "import matplotlib.pyplot as plt # generate graphics\n",
    "\n",
    "predicted = model.predict(X_test)   ## testdaten als predicted\n",
    "\n",
    "plt.scatter(X_test, y_test, color = \"red\")  # scatter plot (Punktediagramm)\n",
    "plt.plot(X_test, predicted)     # x = test daten //  y = vorhergesagten werte daten\n",
    "plt.show()\n",
    "\n",
    "#blaue linie auf basis der blauen punkte\n",
    "#modell hat roten punkte nie gesehen und siehe result:"
   ],
   "metadata": {
    "collapsed": false,
    "pycharm": {
     "name": "#%%\n"
    }
   }
  },
  {
   "cell_type": "code",
   "execution_count": 15,
   "outputs": [],
   "source": [],
   "metadata": {
    "collapsed": false,
    "pycharm": {
     "name": "#%%\n"
    }
   }
  }
 ],
 "metadata": {
  "kernelspec": {
   "display_name": "Python 3",
   "language": "python",
   "name": "python3"
  },
  "language_info": {
   "codemirror_mode": {
    "name": "ipython",
    "version": 2
   },
   "file_extension": ".py",
   "mimetype": "text/x-python",
   "name": "python",
   "nbconvert_exporter": "python",
   "pygments_lexer": "ipython2",
   "version": "2.7.6"
  }
 },
 "nbformat": 4,
 "nbformat_minor": 0
}