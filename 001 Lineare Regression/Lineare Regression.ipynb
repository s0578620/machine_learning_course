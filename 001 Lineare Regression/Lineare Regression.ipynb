{
 "cells": [
  {
   "cell_type": "markdown",
   "source": [
    "# Lineare Regression"
   ],
   "metadata": {
    "collapsed": false,
    "pycharm": {
     "name": "#%% md\n"
    }
   }
  },
  {
   "cell_type": "code",
   "execution_count": 2,
   "metadata": {
    "collapsed": true,
    "pycharm": {
     "name": "#%%\n"
    }
   },
   "outputs": [],
   "source": [
    "import pandas as pd     #import pandas libary (working with csv file)\n",
    "\n",
    "csvdata = pd.read_csv(\"wohnungspreise.csv\")     # pd.read_excel(\"filename.xlsx\") // pd.read_csv(\"filename.csv\", sep=\";\")"
   ]
  },
  {
   "cell_type": "code",
   "execution_count": 3,
   "outputs": [
    {
     "data": {
      "text/plain": "   Quadratmeter  Verkaufspreis\n0            70         351000\n1            72         390000\n2            91         473000\n3            58         282000\n4            49         300000",
      "text/html": "<div>\n<style scoped>\n    .dataframe tbody tr th:only-of-type {\n        vertical-align: middle;\n    }\n\n    .dataframe tbody tr th {\n        vertical-align: top;\n    }\n\n    .dataframe thead th {\n        text-align: right;\n    }\n</style>\n<table border=\"1\" class=\"dataframe\">\n  <thead>\n    <tr style=\"text-align: right;\">\n      <th></th>\n      <th>Quadratmeter</th>\n      <th>Verkaufspreis</th>\n    </tr>\n  </thead>\n  <tbody>\n    <tr>\n      <th>0</th>\n      <td>70</td>\n      <td>351000</td>\n    </tr>\n    <tr>\n      <th>1</th>\n      <td>72</td>\n      <td>390000</td>\n    </tr>\n    <tr>\n      <th>2</th>\n      <td>91</td>\n      <td>473000</td>\n    </tr>\n    <tr>\n      <th>3</th>\n      <td>58</td>\n      <td>282000</td>\n    </tr>\n    <tr>\n      <th>4</th>\n      <td>49</td>\n      <td>300000</td>\n    </tr>\n  </tbody>\n</table>\n</div>"
     },
     "execution_count": 3,
     "metadata": {},
     "output_type": "execute_result"
    }
   ],
   "source": [
    "csvdata.head()      # .head only show the first lines"
   ],
   "metadata": {
    "collapsed": false,
    "pycharm": {
     "name": "#%%\n"
    }
   }
  },
  {
   "cell_type": "code",
   "execution_count": 4,
   "outputs": [],
   "source": [
    "#csvdata[\"Quadratmeter\"]     # lists only one column"
   ],
   "metadata": {
    "collapsed": false,
    "pycharm": {
     "name": "#%%\n"
    }
   }
  },
  {
   "cell_type": "code",
   "execution_count": 5,
   "outputs": [
    {
     "data": {
      "text/plain": "<Figure size 432x288 with 1 Axes>",
      "image/png": "[encoded data removed]"
     },
     "metadata": {
      "needs_background": "light"
     },
     "output_type": "display_data"
    }
   ],
   "source": [
    "%matplotlib inline\n",
    "# Command above: generate graphics in actual notebook\n",
    "import matplotlib.pyplot as plt      # generate graphics\n",
    "\n",
    "plt.scatter(csvdata[\"Quadratmeter\"],csvdata[\"Verkaufspreis\"])       # scatter plot (Punktediagramm)   x-Achse = Quadratmeter , y-Achse = Verkaufspreis\n",
    "plt.show()      # -> code works out of jupyter notebook"
   ],
   "metadata": {
    "collapsed": false,
    "pycharm": {
     "name": "#%%\n"
    }
   }
  },
  {
   "cell_type": "code",
   "execution_count": 6,
   "outputs": [
    {
     "name": "stdout",
     "output_type": "stream",
     "text": [
      "Intercept: [3143.28481869]\n",
      "Coef: [[5071.35242619]]\n"
     ]
    }
   ],
   "source": [
    "from sklearn.linear_model import LinearRegression       # libary -> machine learning tools\n",
    "\n",
    "model = LinearRegression()      # select \"Lineales Regressionsmodell\"\n",
    "model.fit(csvdata[[\"Quadratmeter\"]], csvdata[[\"Verkaufspreis\"]])       # model den daten anpassen\n",
    "\n",
    "print(\"Intercept: \" + str(model.intercept_))    # Parameter für Geradengleichung (Konstante)\n",
    "print(\"Coef: \" + str(model.coef_))      # Parameter für Geradengleichung (Koeffizient)"
   ],
   "metadata": {
    "collapsed": false,
    "pycharm": {
     "name": "#%%\n"
    }
   }
  },
  {
   "cell_type": "code",
   "execution_count": 7,
   "outputs": [],
   "source": [
    "# Verkaufspreis = 3143.28481869 + 5071.35242619 * Quadratmeter\n",
    "# y = 3143.28481869 + 5071.35242619 * x"
   ],
   "metadata": {
    "collapsed": false,
    "pycharm": {
     "name": "#%%\n"
    }
   }
  },
  {
   "cell_type": "code",
   "execution_count": 8,
   "outputs": [
    {
     "name": "stdout",
     "output_type": "stream",
     "text": [
      "155283.85760439\n"
     ]
    }
   ],
   "source": [
    "print(3143.28481869 + 5071.35242619 * 30)       # calculation for apartment 30 m²\n",
    "#model.predict([[30]])      # function from libary\n",
    "#model.predict([[30], [40]])    # show results from both m² values"
   ],
   "metadata": {
    "collapsed": false,
    "pycharm": {
     "name": "#%%\n"
    }
   }
  },
  {
   "cell_type": "code",
   "execution_count": 9,
   "outputs": [
    {
     "name": "stderr",
     "output_type": "stream",
     "text": [
      "C:\\Users\\henri\\PycharmProjects\\machine_learning_course\\machine_learning_course\\lib\\site-packages\\sklearn\\base.py:450: UserWarning: X does not have valid feature names, but LinearRegression was fitted with feature names\n",
      "  warnings.warn(\n"
     ]
    }
   ],
   "source": [
    "min_x = min(csvdata[\"Quadratmeter\"])    # save lowest value\n",
    "max_x = max(csvdata[\"Quadratmeter\"])    # save highest value\n",
    "\n",
    "predicted = model.predict([[min_x], [max_x]])"
   ],
   "metadata": {
    "collapsed": false,
    "pycharm": {
     "name": "#%%\n"
    }
   }
  },
  {
   "cell_type": "code",
   "execution_count": 10,
   "outputs": [
    {
     "data": {
      "text/plain": "<Figure size 432x288 with 1 Axes>",
      "image/png": "[encoded data removed]"
     },
     "metadata": {
      "needs_background": "light"
     },
     "output_type": "display_data"
    }
   ],
   "source": [
    "plt.scatter(csvdata[\"Quadratmeter\"], csvdata[\"Verkaufspreis\"])\n",
    "plt.plot([min_x, max_x], predicted, color = \"red\")      # add predicted model with color red\n",
    "plt.show()"
   ],
   "metadata": {
    "collapsed": false,
    "pycharm": {
     "name": "#%%\n"
    }
   }
  },
  {
   "cell_type": "code",
   "execution_count": 42,
   "outputs": [],
   "source": [],
   "metadata": {
    "collapsed": false,
    "pycharm": {
     "name": "#%%\n"
    }
   }
  }
 ],
 "metadata": {
  "kernelspec": {
   "display_name": "Python 3",
   "language": "python",
   "name": "python3"
  },
  "language_info": {
   "codemirror_mode": {
    "name": "ipython",
    "version": 2
   },
   "file_extension": ".py",
   "mimetype": "text/x-python",
   "name": "python",
   "nbconvert_exporter": "python",
   "pygments_lexer": "ipython2",
   "version": "2.7.6"
  }
 },
 "nbformat": 4,
 "nbformat_minor": 0
}