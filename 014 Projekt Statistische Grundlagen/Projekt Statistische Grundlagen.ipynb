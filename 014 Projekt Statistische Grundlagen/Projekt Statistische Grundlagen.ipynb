{
 "cells": [
  {
   "cell_type": "markdown",
   "source": [
    "# Projekt Statistische Grundlagen"
   ],
   "metadata": {
    "collapsed": false,
    "pycharm": {
     "name": "#%% md\n"
    }
   }
  },
  {
   "cell_type": "code",
   "execution_count": 5,
   "outputs": [
    {
     "data": {
      "text/plain": "   Id       EmployeeName                                        JobTitle  \\\n0   1     NATHANIEL FORD  GENERAL MANAGER-METROPOLITAN TRANSIT AUTHORITY   \n1   2       GARY JIMENEZ                 CAPTAIN III (POLICE DEPARTMENT)   \n2   3     ALBERT PARDINI                 CAPTAIN III (POLICE DEPARTMENT)   \n3   4  CHRISTOPHER CHONG            WIRE ROPE CABLE MAINTENANCE MECHANIC   \n4   5    PATRICK GARDNER    DEPUTY CHIEF OF DEPARTMENT,(FIRE DEPARTMENT)   \n\n     BasePay OvertimePay   OtherPay Benefits   TotalPay  TotalPayBenefits  \\\n0  167411.18         0.0  400184.25      NaN  567595.43         567595.43   \n1  155966.02   245131.88  137811.38      NaN  538909.28         538909.28   \n2  212739.13   106088.18    16452.6      NaN  335279.91         335279.91   \n3    77916.0    56120.71   198306.9      NaN  332343.61         332343.61   \n4   134401.6      9737.0  182234.59      NaN  326373.19         326373.19   \n\n   Year  Notes         Agency Status  \n0  2011    NaN  San Francisco    NaN  \n1  2011    NaN  San Francisco    NaN  \n2  2011    NaN  San Francisco    NaN  \n3  2011    NaN  San Francisco    NaN  \n4  2011    NaN  San Francisco    NaN  ",
      "text/html": "<div>\n<style scoped>\n    .dataframe tbody tr th:only-of-type {\n        vertical-align: middle;\n    }\n\n    .dataframe tbody tr th {\n        vertical-align: top;\n    }\n\n    .dataframe thead th {\n        text-align: right;\n    }\n</style>\n<table border=\"1\" class=\"dataframe\">\n  <thead>\n    <tr style=\"text-align: right;\">\n      <th></th>\n      <th>Id</th>\n      <th>EmployeeName</th>\n      <th>JobTitle</th>\n      <th>BasePay</th>\n      <th>OvertimePay</th>\n      <th>OtherPay</th>\n      <th>Benefits</th>\n      <th>TotalPay</th>\n      <th>TotalPayBenefits</th>\n      <th>Year</th>\n      <th>Notes</th>\n      <th>Agency</th>\n      <th>Status</th>\n    </tr>\n  </thead>\n  <tbody>\n    <tr>\n      <th>0</th>\n      <td>1</td>\n      <td>NATHANIEL FORD</td>\n      <td>GENERAL MANAGER-METROPOLITAN TRANSIT AUTHORITY</td>\n      <td>167411.18</td>\n      <td>0.0</td>\n      <td>400184.25</td>\n      <td>NaN</td>\n      <td>567595.43</td>\n      <td>567595.43</td>\n      <td>2011</td>\n      <td>NaN</td>\n      <td>San Francisco</td>\n      <td>NaN</td>\n    </tr>\n    <tr>\n      <th>1</th>\n      <td>2</td>\n      <td>GARY JIMENEZ</td>\n      <td>CAPTAIN III (POLICE DEPARTMENT)</td>\n      <td>155966.02</td>\n      <td>245131.88</td>\n      <td>137811.38</td>\n      <td>NaN</td>\n      <td>538909.28</td>\n      <td>538909.28</td>\n      <td>2011</td>\n      <td>NaN</td>\n      <td>San Francisco</td>\n      <td>NaN</td>\n    </tr>\n    <tr>\n      <th>2</th>\n      <td>3</td>\n      <td>ALBERT PARDINI</td>\n      <td>CAPTAIN III (POLICE DEPARTMENT)</td>\n      <td>212739.13</td>\n      <td>106088.18</td>\n      <td>16452.6</td>\n      <td>NaN</td>\n      <td>335279.91</td>\n      <td>335279.91</td>\n      <td>2011</td>\n      <td>NaN</td>\n      <td>San Francisco</td>\n      <td>NaN</td>\n    </tr>\n    <tr>\n      <th>3</th>\n      <td>4</td>\n      <td>CHRISTOPHER CHONG</td>\n      <td>WIRE ROPE CABLE MAINTENANCE MECHANIC</td>\n      <td>77916.0</td>\n      <td>56120.71</td>\n      <td>198306.9</td>\n      <td>NaN</td>\n      <td>332343.61</td>\n      <td>332343.61</td>\n      <td>2011</td>\n      <td>NaN</td>\n      <td>San Francisco</td>\n      <td>NaN</td>\n    </tr>\n    <tr>\n      <th>4</th>\n      <td>5</td>\n      <td>PATRICK GARDNER</td>\n      <td>DEPUTY CHIEF OF DEPARTMENT,(FIRE DEPARTMENT)</td>\n      <td>134401.6</td>\n      <td>9737.0</td>\n      <td>182234.59</td>\n      <td>NaN</td>\n      <td>326373.19</td>\n      <td>326373.19</td>\n      <td>2011</td>\n      <td>NaN</td>\n      <td>San Francisco</td>\n      <td>NaN</td>\n    </tr>\n  </tbody>\n</table>\n</div>"
     },
     "execution_count": 2,
     "metadata": {},
     "output_type": "execute_result"
    },
    {
     "data": {
      "text/plain": "   Id       EmployeeName                                        JobTitle  \\\n0   1     NATHANIEL FORD  GENERAL MANAGER-METROPOLITAN TRANSIT AUTHORITY   \n1   2       GARY JIMENEZ                 CAPTAIN III (POLICE DEPARTMENT)   \n2   3     ALBERT PARDINI                 CAPTAIN III (POLICE DEPARTMENT)   \n3   4  CHRISTOPHER CHONG            WIRE ROPE CABLE MAINTENANCE MECHANIC   \n4   5    PATRICK GARDNER    DEPUTY CHIEF OF DEPARTMENT,(FIRE DEPARTMENT)   \n\n     BasePay OvertimePay   OtherPay Benefits   TotalPay  TotalPayBenefits  \\\n0  167411.18         0.0  400184.25      NaN  567595.43         567595.43   \n1  155966.02   245131.88  137811.38      NaN  538909.28         538909.28   \n2  212739.13   106088.18    16452.6      NaN  335279.91         335279.91   \n3    77916.0    56120.71   198306.9      NaN  332343.61         332343.61   \n4   134401.6      9737.0  182234.59      NaN  326373.19         326373.19   \n\n   Year  Notes         Agency Status  \n0  2011    NaN  San Francisco    NaN  \n1  2011    NaN  San Francisco    NaN  \n2  2011    NaN  San Francisco    NaN  \n3  2011    NaN  San Francisco    NaN  \n4  2011    NaN  San Francisco    NaN  ",
      "text/html": "<div>\n<style scoped>\n    .dataframe tbody tr th:only-of-type {\n        vertical-align: middle;\n    }\n\n    .dataframe tbody tr th {\n        vertical-align: top;\n    }\n\n    .dataframe thead th {\n        text-align: right;\n    }\n</style>\n<table border=\"1\" class=\"dataframe\">\n  <thead>\n    <tr style=\"text-align: right;\">\n      <th></th>\n      <th>Id</th>\n      <th>EmployeeName</th>\n      <th>JobTitle</th>\n      <th>BasePay</th>\n      <th>OvertimePay</th>\n      <th>OtherPay</th>\n      <th>Benefits</th>\n      <th>TotalPay</th>\n      <th>TotalPayBenefits</th>\n      <th>Year</th>\n      <th>Notes</th>\n      <th>Agency</th>\n      <th>Status</th>\n    </tr>\n  </thead>\n  <tbody>\n    <tr>\n      <th>0</th>\n      <td>1</td>\n      <td>NATHANIEL FORD</td>\n      <td>GENERAL MANAGER-METROPOLITAN TRANSIT AUTHORITY</td>\n      <td>167411.18</td>\n      <td>0.0</td>\n      <td>400184.25</td>\n      <td>NaN</td>\n      <td>567595.43</td>\n      <td>567595.43</td>\n      <td>2011</td>\n      <td>NaN</td>\n      <td>San Francisco</td>\n      <td>NaN</td>\n    </tr>\n    <tr>\n      <th>1</th>\n      <td>2</td>\n      <td>GARY JIMENEZ</td>\n      <td>CAPTAIN III (POLICE DEPARTMENT)</td>\n      <td>155966.02</td>\n      <td>245131.88</td>\n      <td>137811.38</td>\n      <td>NaN</td>\n      <td>538909.28</td>\n      <td>538909.28</td>\n      <td>2011</td>\n      <td>NaN</td>\n      <td>San Francisco</td>\n      <td>NaN</td>\n    </tr>\n    <tr>\n      <th>2</th>\n      <td>3</td>\n      <td>ALBERT PARDINI</td>\n      <td>CAPTAIN III (POLICE DEPARTMENT)</td>\n      <td>212739.13</td>\n      <td>106088.18</td>\n      <td>16452.6</td>\n      <td>NaN</td>\n      <td>335279.91</td>\n      <td>335279.91</td>\n      <td>2011</td>\n      <td>NaN</td>\n      <td>San Francisco</td>\n      <td>NaN</td>\n    </tr>\n    <tr>\n      <th>3</th>\n      <td>4</td>\n      <td>CHRISTOPHER CHONG</td>\n      <td>WIRE ROPE CABLE MAINTENANCE MECHANIC</td>\n      <td>77916.0</td>\n      <td>56120.71</td>\n      <td>198306.9</td>\n      <td>NaN</td>\n      <td>332343.61</td>\n      <td>332343.61</td>\n      <td>2011</td>\n      <td>NaN</td>\n      <td>San Francisco</td>\n      <td>NaN</td>\n    </tr>\n    <tr>\n      <th>4</th>\n      <td>5</td>\n      <td>PATRICK GARDNER</td>\n      <td>DEPUTY CHIEF OF DEPARTMENT,(FIRE DEPARTMENT)</td>\n      <td>134401.6</td>\n      <td>9737.0</td>\n      <td>182234.59</td>\n      <td>NaN</td>\n      <td>326373.19</td>\n      <td>326373.19</td>\n      <td>2011</td>\n      <td>NaN</td>\n      <td>San Francisco</td>\n      <td>NaN</td>\n    </tr>\n  </tbody>\n</table>\n</div>"
     },
     "execution_count": 3,
     "metadata": {},
     "output_type": "execute_result"
    },
    {
     "data": {
      "text/plain": "   Id       EmployeeName                                        JobTitle  \\\n0   1     NATHANIEL FORD  GENERAL MANAGER-METROPOLITAN TRANSIT AUTHORITY   \n1   2       GARY JIMENEZ                 CAPTAIN III (POLICE DEPARTMENT)   \n2   3     ALBERT PARDINI                 CAPTAIN III (POLICE DEPARTMENT)   \n3   4  CHRISTOPHER CHONG            WIRE ROPE CABLE MAINTENANCE MECHANIC   \n4   5    PATRICK GARDNER    DEPUTY CHIEF OF DEPARTMENT,(FIRE DEPARTMENT)   \n\n     BasePay OvertimePay   OtherPay Benefits   TotalPay  TotalPayBenefits  \\\n0  167411.18         0.0  400184.25      NaN  567595.43         567595.43   \n1  155966.02   245131.88  137811.38      NaN  538909.28         538909.28   \n2  212739.13   106088.18    16452.6      NaN  335279.91         335279.91   \n3    77916.0    56120.71   198306.9      NaN  332343.61         332343.61   \n4   134401.6      9737.0  182234.59      NaN  326373.19         326373.19   \n\n   Year  Notes         Agency Status  \n0  2011    NaN  San Francisco    NaN  \n1  2011    NaN  San Francisco    NaN  \n2  2011    NaN  San Francisco    NaN  \n3  2011    NaN  San Francisco    NaN  \n4  2011    NaN  San Francisco    NaN  ",
      "text/html": "<div>\n<style scoped>\n    .dataframe tbody tr th:only-of-type {\n        vertical-align: middle;\n    }\n\n    .dataframe tbody tr th {\n        vertical-align: top;\n    }\n\n    .dataframe thead th {\n        text-align: right;\n    }\n</style>\n<table border=\"1\" class=\"dataframe\">\n  <thead>\n    <tr style=\"text-align: right;\">\n      <th></th>\n      <th>Id</th>\n      <th>EmployeeName</th>\n      <th>JobTitle</th>\n      <th>BasePay</th>\n      <th>OvertimePay</th>\n      <th>OtherPay</th>\n      <th>Benefits</th>\n      <th>TotalPay</th>\n      <th>TotalPayBenefits</th>\n      <th>Year</th>\n      <th>Notes</th>\n      <th>Agency</th>\n      <th>Status</th>\n    </tr>\n  </thead>\n  <tbody>\n    <tr>\n      <th>0</th>\n      <td>1</td>\n      <td>NATHANIEL FORD</td>\n      <td>GENERAL MANAGER-METROPOLITAN TRANSIT AUTHORITY</td>\n      <td>167411.18</td>\n      <td>0.0</td>\n      <td>400184.25</td>\n      <td>NaN</td>\n      <td>567595.43</td>\n      <td>567595.43</td>\n      <td>2011</td>\n      <td>NaN</td>\n      <td>San Francisco</td>\n      <td>NaN</td>\n    </tr>\n    <tr>\n      <th>1</th>\n      <td>2</td>\n      <td>GARY JIMENEZ</td>\n      <td>CAPTAIN III (POLICE DEPARTMENT)</td>\n      <td>155966.02</td>\n      <td>245131.88</td>\n      <td>137811.38</td>\n      <td>NaN</td>\n      <td>538909.28</td>\n      <td>538909.28</td>\n      <td>2011</td>\n      <td>NaN</td>\n      <td>San Francisco</td>\n      <td>NaN</td>\n    </tr>\n    <tr>\n      <th>2</th>\n      <td>3</td>\n      <td>ALBERT PARDINI</td>\n      <td>CAPTAIN III (POLICE DEPARTMENT)</td>\n      <td>212739.13</td>\n      <td>106088.18</td>\n      <td>16452.6</td>\n      <td>NaN</td>\n      <td>335279.91</td>\n      <td>335279.91</td>\n      <td>2011</td>\n      <td>NaN</td>\n      <td>San Francisco</td>\n      <td>NaN</td>\n    </tr>\n    <tr>\n      <th>3</th>\n      <td>4</td>\n      <td>CHRISTOPHER CHONG</td>\n      <td>WIRE ROPE CABLE MAINTENANCE MECHANIC</td>\n      <td>77916.0</td>\n      <td>56120.71</td>\n      <td>198306.9</td>\n      <td>NaN</td>\n      <td>332343.61</td>\n      <td>332343.61</td>\n      <td>2011</td>\n      <td>NaN</td>\n      <td>San Francisco</td>\n      <td>NaN</td>\n    </tr>\n    <tr>\n      <th>4</th>\n      <td>5</td>\n      <td>PATRICK GARDNER</td>\n      <td>DEPUTY CHIEF OF DEPARTMENT,(FIRE DEPARTMENT)</td>\n      <td>134401.6</td>\n      <td>9737.0</td>\n      <td>182234.59</td>\n      <td>NaN</td>\n      <td>326373.19</td>\n      <td>326373.19</td>\n      <td>2011</td>\n      <td>NaN</td>\n      <td>San Francisco</td>\n      <td>NaN</td>\n    </tr>\n  </tbody>\n</table>\n</div>"
     },
     "execution_count": 4,
     "metadata": {},
     "output_type": "execute_result"
    },
    {
     "data": {
      "text/plain": "   Id       EmployeeName                                        JobTitle  \\\n0   1     NATHANIEL FORD  GENERAL MANAGER-METROPOLITAN TRANSIT AUTHORITY   \n1   2       GARY JIMENEZ                 CAPTAIN III (POLICE DEPARTMENT)   \n2   3     ALBERT PARDINI                 CAPTAIN III (POLICE DEPARTMENT)   \n3   4  CHRISTOPHER CHONG            WIRE ROPE CABLE MAINTENANCE MECHANIC   \n4   5    PATRICK GARDNER    DEPUTY CHIEF OF DEPARTMENT,(FIRE DEPARTMENT)   \n\n     BasePay OvertimePay   OtherPay Benefits   TotalPay  TotalPayBenefits  \\\n0  167411.18         0.0  400184.25      NaN  567595.43         567595.43   \n1  155966.02   245131.88  137811.38      NaN  538909.28         538909.28   \n2  212739.13   106088.18    16452.6      NaN  335279.91         335279.91   \n3    77916.0    56120.71   198306.9      NaN  332343.61         332343.61   \n4   134401.6      9737.0  182234.59      NaN  326373.19         326373.19   \n\n   Year  Notes         Agency Status  \n0  2011    NaN  San Francisco    NaN  \n1  2011    NaN  San Francisco    NaN  \n2  2011    NaN  San Francisco    NaN  \n3  2011    NaN  San Francisco    NaN  \n4  2011    NaN  San Francisco    NaN  ",
      "text/html": "<div>\n<style scoped>\n    .dataframe tbody tr th:only-of-type {\n        vertical-align: middle;\n    }\n\n    .dataframe tbody tr th {\n        vertical-align: top;\n    }\n\n    .dataframe thead th {\n        text-align: right;\n    }\n</style>\n<table border=\"1\" class=\"dataframe\">\n  <thead>\n    <tr style=\"text-align: right;\">\n      <th></th>\n      <th>Id</th>\n      <th>EmployeeName</th>\n      <th>JobTitle</th>\n      <th>BasePay</th>\n      <th>OvertimePay</th>\n      <th>OtherPay</th>\n      <th>Benefits</th>\n      <th>TotalPay</th>\n      <th>TotalPayBenefits</th>\n      <th>Year</th>\n      <th>Notes</th>\n      <th>Agency</th>\n      <th>Status</th>\n    </tr>\n  </thead>\n  <tbody>\n    <tr>\n      <th>0</th>\n      <td>1</td>\n      <td>NATHANIEL FORD</td>\n      <td>GENERAL MANAGER-METROPOLITAN TRANSIT AUTHORITY</td>\n      <td>167411.18</td>\n      <td>0.0</td>\n      <td>400184.25</td>\n      <td>NaN</td>\n      <td>567595.43</td>\n      <td>567595.43</td>\n      <td>2011</td>\n      <td>NaN</td>\n      <td>San Francisco</td>\n      <td>NaN</td>\n    </tr>\n    <tr>\n      <th>1</th>\n      <td>2</td>\n      <td>GARY JIMENEZ</td>\n      <td>CAPTAIN III (POLICE DEPARTMENT)</td>\n      <td>155966.02</td>\n      <td>245131.88</td>\n      <td>137811.38</td>\n      <td>NaN</td>\n      <td>538909.28</td>\n      <td>538909.28</td>\n      <td>2011</td>\n      <td>NaN</td>\n      <td>San Francisco</td>\n      <td>NaN</td>\n    </tr>\n    <tr>\n      <th>2</th>\n      <td>3</td>\n      <td>ALBERT PARDINI</td>\n      <td>CAPTAIN III (POLICE DEPARTMENT)</td>\n      <td>212739.13</td>\n      <td>106088.18</td>\n      <td>16452.6</td>\n      <td>NaN</td>\n      <td>335279.91</td>\n      <td>335279.91</td>\n      <td>2011</td>\n      <td>NaN</td>\n      <td>San Francisco</td>\n      <td>NaN</td>\n    </tr>\n    <tr>\n      <th>3</th>\n      <td>4</td>\n      <td>CHRISTOPHER CHONG</td>\n      <td>WIRE ROPE CABLE MAINTENANCE MECHANIC</td>\n      <td>77916.0</td>\n      <td>56120.71</td>\n      <td>198306.9</td>\n      <td>NaN</td>\n      <td>332343.61</td>\n      <td>332343.61</td>\n      <td>2011</td>\n      <td>NaN</td>\n      <td>San Francisco</td>\n      <td>NaN</td>\n    </tr>\n    <tr>\n      <th>4</th>\n      <td>5</td>\n      <td>PATRICK GARDNER</td>\n      <td>DEPUTY CHIEF OF DEPARTMENT,(FIRE DEPARTMENT)</td>\n      <td>134401.6</td>\n      <td>9737.0</td>\n      <td>182234.59</td>\n      <td>NaN</td>\n      <td>326373.19</td>\n      <td>326373.19</td>\n      <td>2011</td>\n      <td>NaN</td>\n      <td>San Francisco</td>\n      <td>NaN</td>\n    </tr>\n  </tbody>\n</table>\n</div>"
     },
     "execution_count": 5,
     "metadata": {},
     "output_type": "execute_result"
    }
   ],
   "source": [
    "import pandas as pd\n",
    "df = pd.read_csv(\"./sf_salaries.csv\", low_memory = False)\n",
    "df.head()"
   ],
   "metadata": {
    "collapsed": false,
    "pycharm": {
     "name": "#%%\n"
    }
   }
  },
  {
   "cell_type": "code",
   "execution_count": 17,
   "outputs": [],
   "source": [
    "most_payed = df[df[\"TotalPay\"] > 500000] # filtern (df[\"TotalPay\"] > 100000 gibt nur true values aus) // neues Dataframe entsteht"
   ],
   "metadata": {
    "collapsed": false,
    "pycharm": {
     "name": "#%%\n"
    }
   }
  },
  {
   "cell_type": "code",
   "execution_count": 18,
   "outputs": [
    {
     "data": {
      "text/plain": "   Id    EmployeeName                                        JobTitle  \\\n0   1  NATHANIEL FORD  GENERAL MANAGER-METROPOLITAN TRANSIT AUTHORITY   \n1   2    GARY JIMENEZ                 CAPTAIN III (POLICE DEPARTMENT)   \n\n     BasePay OvertimePay   OtherPay Benefits   TotalPay  TotalPayBenefits  \\\n0  167411.18         0.0  400184.25      NaN  567595.43         567595.43   \n1  155966.02   245131.88  137811.38      NaN  538909.28         538909.28   \n\n   Year  Notes         Agency Status  \n0  2011    NaN  San Francisco    NaN  \n1  2011    NaN  San Francisco    NaN  ",
      "text/html": "<div>\n<style scoped>\n    .dataframe tbody tr th:only-of-type {\n        vertical-align: middle;\n    }\n\n    .dataframe tbody tr th {\n        vertical-align: top;\n    }\n\n    .dataframe thead th {\n        text-align: right;\n    }\n</style>\n<table border=\"1\" class=\"dataframe\">\n  <thead>\n    <tr style=\"text-align: right;\">\n      <th></th>\n      <th>Id</th>\n      <th>EmployeeName</th>\n      <th>JobTitle</th>\n      <th>BasePay</th>\n      <th>OvertimePay</th>\n      <th>OtherPay</th>\n      <th>Benefits</th>\n      <th>TotalPay</th>\n      <th>TotalPayBenefits</th>\n      <th>Year</th>\n      <th>Notes</th>\n      <th>Agency</th>\n      <th>Status</th>\n    </tr>\n  </thead>\n  <tbody>\n    <tr>\n      <th>0</th>\n      <td>1</td>\n      <td>NATHANIEL FORD</td>\n      <td>GENERAL MANAGER-METROPOLITAN TRANSIT AUTHORITY</td>\n      <td>167411.18</td>\n      <td>0.0</td>\n      <td>400184.25</td>\n      <td>NaN</td>\n      <td>567595.43</td>\n      <td>567595.43</td>\n      <td>2011</td>\n      <td>NaN</td>\n      <td>San Francisco</td>\n      <td>NaN</td>\n    </tr>\n    <tr>\n      <th>1</th>\n      <td>2</td>\n      <td>GARY JIMENEZ</td>\n      <td>CAPTAIN III (POLICE DEPARTMENT)</td>\n      <td>155966.02</td>\n      <td>245131.88</td>\n      <td>137811.38</td>\n      <td>NaN</td>\n      <td>538909.28</td>\n      <td>538909.28</td>\n      <td>2011</td>\n      <td>NaN</td>\n      <td>San Francisco</td>\n      <td>NaN</td>\n    </tr>\n  </tbody>\n</table>\n</div>"
     },
     "execution_count": 18,
     "metadata": {},
     "output_type": "execute_result"
    }
   ],
   "source": [
    "most_payed.head()"
   ],
   "metadata": {
    "collapsed": false,
    "pycharm": {
     "name": "#%%\n"
    }
   }
  },
  {
   "cell_type": "code",
   "execution_count": 19,
   "outputs": [
    {
     "data": {
      "text/plain": "71744.10387123538"
     },
     "execution_count": 19,
     "metadata": {},
     "output_type": "execute_result"
    }
   ],
   "source": [
    "year_2011 = df[df[\"Year\"] == 2011]\n",
    "year_2011[\"TotalPay\"].mean()"
   ],
   "metadata": {
    "collapsed": false,
    "pycharm": {
     "name": "#%%\n"
    }
   }
  },
  {
   "cell_type": "code",
   "execution_count": 20,
   "outputs": [
    {
     "data": {
      "text/plain": "74113.26226513626"
     },
     "execution_count": 20,
     "metadata": {},
     "output_type": "execute_result"
    }
   ],
   "source": [
    "year_2012 = df[df[\"Year\"] == 2012]\n",
    "year_2012[\"TotalPay\"].mean()"
   ],
   "metadata": {
    "collapsed": false,
    "pycharm": {
     "name": "#%%\n"
    }
   }
  },
  {
   "cell_type": "code",
   "execution_count": 21,
   "outputs": [
    {
     "data": {
      "text/plain": "77611.44314205181"
     },
     "execution_count": 21,
     "metadata": {},
     "output_type": "execute_result"
    }
   ],
   "source": [
    "year_2013 = df[df[\"Year\"] == 2013]\n",
    "year_2013[\"TotalPay\"].mean()"
   ],
   "metadata": {
    "collapsed": false,
    "pycharm": {
     "name": "#%%\n"
    }
   }
  },
  {
   "cell_type": "code",
   "execution_count": 22,
   "outputs": [
    {
     "data": {
      "text/plain": "75463.91814023031"
     },
     "execution_count": 22,
     "metadata": {},
     "output_type": "execute_result"
    }
   ],
   "source": [
    "year_2014 = df[df[\"Year\"] == 2014]\n",
    "year_2014[\"TotalPay\"].mean()"
   ],
   "metadata": {
    "collapsed": false,
    "pycharm": {
     "name": "#%%\n"
    }
   }
  },
  {
   "cell_type": "code",
   "execution_count": 23,
   "outputs": [
    {
     "data": {
      "text/plain": "74768.32197169267"
     },
     "execution_count": 23,
     "metadata": {},
     "output_type": "execute_result"
    }
   ],
   "source": [
    "df[\"TotalPay\"].mean()"
   ],
   "metadata": {
    "collapsed": false,
    "pycharm": {
     "name": "#%%\n"
    }
   }
  },
  {
   "cell_type": "code",
   "execution_count": 24,
   "outputs": [
    {
     "data": {
      "text/plain": "71426.60999999999"
     },
     "execution_count": 24,
     "metadata": {},
     "output_type": "execute_result"
    }
   ],
   "source": [
    "df[\"TotalPay\"].median()"
   ],
   "metadata": {
    "collapsed": false,
    "pycharm": {
     "name": "#%%\n"
    }
   }
  },
  {
   "cell_type": "code",
   "execution_count": 6,
   "outputs": [
    {
     "data": {
      "text/plain": "<Figure size 432x288 with 1 Axes>",
      "image/png": "[encoded data removed]"
     },
     "metadata": {
      "needs_background": "light"
     },
     "output_type": "display_data"
    }
   ],
   "source": [
    "%matplotlib inline\n",
    "import matplotlib.pyplot as plt\n",
    "\n",
    "plt.hist(df[\"TotalPay\"], bins = 100)\n",
    "plt.show()"
   ],
   "metadata": {
    "collapsed": false,
    "pycharm": {
     "name": "#%%\n"
    }
   }
  },
  {
   "cell_type": "code",
   "execution_count": null,
   "outputs": [],
   "source": [],
   "metadata": {
    "collapsed": false,
    "pycharm": {
     "name": "#%%\n"
    }
   }
  }
 ],
 "metadata": {
  "kernelspec": {
   "display_name": "Python 3",
   "language": "python",
   "name": "python3"
  },
  "language_info": {
   "codemirror_mode": {
    "name": "ipython",
    "version": 2
   },
   "file_extension": ".py",
   "mimetype": "text/x-python",
   "name": "python",
   "nbconvert_exporter": "python",
   "pygments_lexer": "ipython2",
   "version": "2.7.6"
  }
 },
 "nbformat": 4,
 "nbformat_minor": 0
}