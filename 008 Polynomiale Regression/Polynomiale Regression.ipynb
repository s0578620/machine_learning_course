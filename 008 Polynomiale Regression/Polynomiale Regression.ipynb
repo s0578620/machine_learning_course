{
 "cells": [
  {
   "cell_type": "markdown",
   "source": [
    "# Polynomale Regression"
   ],
   "metadata": {
    "collapsed": false,
    "pycharm": {
     "name": "#%% md\n"
    }
   }
  },
  {
   "cell_type": "code",
   "execution_count": 10,
   "outputs": [],
   "source": [
    "import pandas as pd\n",
    "\n",
    "df = pd.read_csv(\"./fields.csv\")"
   ],
   "metadata": {
    "collapsed": false,
    "pycharm": {
     "name": "#%%\n"
    }
   }
  },
  {
   "cell_type": "code",
   "execution_count": 11,
   "outputs": [
    {
     "data": {
      "text/plain": "   length     profit   width\n0   807.0   634630.0  1032.0\n1   299.0   124074.0   337.0\n2   431.0  1338300.0  1631.0\n3   744.0   327720.0   553.0\n4   364.0   500244.0   827.0",
      "text/html": "<div>\n<style scoped>\n    .dataframe tbody tr th:only-of-type {\n        vertical-align: middle;\n    }\n\n    .dataframe tbody tr th {\n        vertical-align: top;\n    }\n\n    .dataframe thead th {\n        text-align: right;\n    }\n</style>\n<table border=\"1\" class=\"dataframe\">\n  <thead>\n    <tr style=\"text-align: right;\">\n      <th></th>\n      <th>length</th>\n      <th>profit</th>\n      <th>width</th>\n    </tr>\n  </thead>\n  <tbody>\n    <tr>\n      <th>0</th>\n      <td>807.0</td>\n      <td>634630.0</td>\n      <td>1032.0</td>\n    </tr>\n    <tr>\n      <th>1</th>\n      <td>299.0</td>\n      <td>124074.0</td>\n      <td>337.0</td>\n    </tr>\n    <tr>\n      <th>2</th>\n      <td>431.0</td>\n      <td>1338300.0</td>\n      <td>1631.0</td>\n    </tr>\n    <tr>\n      <th>3</th>\n      <td>744.0</td>\n      <td>327720.0</td>\n      <td>553.0</td>\n    </tr>\n    <tr>\n      <th>4</th>\n      <td>364.0</td>\n      <td>500244.0</td>\n      <td>827.0</td>\n    </tr>\n  </tbody>\n</table>\n</div>"
     },
     "execution_count": 11,
     "metadata": {},
     "output_type": "execute_result"
    }
   ],
   "source": [
    "df.head()"
   ],
   "metadata": {
    "collapsed": false,
    "pycharm": {
     "name": "#%%\n"
    }
   }
  },
  {
   "cell_type": "markdown",
   "source": [
    "### Lineare Regression"
   ],
   "metadata": {
    "collapsed": false,
    "pycharm": {
     "name": "#%% md\n"
    }
   }
  },
  {
   "cell_type": "code",
   "execution_count": 12,
   "outputs": [
    {
     "name": "stdout",
     "output_type": "stream",
     "text": [
      "0.9151374097035715\n"
     ]
    }
   ],
   "source": [
    "# Beispiel: Normale, lineare Regression\n",
    "\n",
    "X = df[[\"width\", \"length\"]].values\n",
    "Y = df[[\"profit\"]].values\n",
    "\n",
    "from sklearn.model_selection import train_test_split\n",
    "\n",
    "X_train, X_test, y_train, y_test = train_test_split(X, Y, random_state = 42, test_size = 0.25)\n",
    "\n",
    "from sklearn.linear_model import LinearRegression\n",
    "\n",
    "model = LinearRegression()\n",
    "model.fit(X_train, y_train)\n",
    "\n",
    "print(model.score(X_test, y_test))"
   ],
   "metadata": {
    "collapsed": false,
    "pycharm": {
     "name": "#%%\n"
    }
   }
  },
  {
   "cell_type": "markdown",
   "source": [
    "### Polynomiale Regregression"
   ],
   "metadata": {
    "collapsed": false,
    "pycharm": {
     "name": "#%% md\n"
    }
   }
  },
  {
   "cell_type": "code",
   "execution_count": 13,
   "outputs": [],
   "source": [
    "from sklearn.preprocessing import PolynomialFeatures\n",
    "\n",
    "PolynomialFeatures?"
   ],
   "metadata": {
    "collapsed": false,
    "pycharm": {
     "name": "#%%\n"
    }
   }
  },
  {
   "cell_type": "code",
   "execution_count": 20,
   "outputs": [
    {
     "name": "stdout",
     "output_type": "stream",
     "text": [
      "0.9881840549313348\n"
     ]
    }
   ],
   "source": [
    "pf = PolynomialFeatures(degree = 2, include_bias = False)   # degree = (hoch 2) generieren\n",
    "pf.fit(X_train) #fit errechnete x_train daten in neues model\n",
    "\n",
    "X_train_transformed = pf.transform(X_train)[:, [0, 2]]  # [0,2} Spalte 0 und 2 aktiviert\n",
    "X_test_transformed = pf.transform(X_test)[:, [0, 2]]    # tesing: [0, 1, 2, 3, 4 ] und  X_train_transformed\n",
    "\n",
    "#Lineare Regression\n",
    "from sklearn.linear_model import LinearRegression\n",
    "\n",
    "model = LinearRegression()\n",
    "model.fit(X_train_transformed, y_train)\n",
    "\n",
    "print(model.score(X_test_transformed, y_test))"
   ],
   "metadata": {
    "collapsed": false,
    "pycharm": {
     "name": "#%%\n"
    }
   }
  },
  {
   "cell_type": "code",
   "execution_count": 21,
   "outputs": [
    {
     "name": "stdout",
     "output_type": "stream",
     "text": [
      "[[1 0]\n",
      " [0 1]\n",
      " [2 0]\n",
      " [1 1]\n",
      " [0 2]]\n"
     ]
    }
   ],
   "source": [
    "print(pf.powers_)\n",
    "# width ^ 1 * length ^ 0\n",
    "# width ^ 2 * length ^ 0"
   ],
   "metadata": {
    "collapsed": false,
    "pycharm": {
     "name": "#%%\n"
    }
   }
  },
  {
   "cell_type": "code",
   "execution_count": 22,
   "outputs": [
    {
     "data": {
      "text/plain": "array([[1.093000e+03, 1.194649e+06],\n       [6.260000e+02, 3.918760e+05],\n       [1.608000e+03, 2.585664e+06],\n       [1.243000e+03, 1.545049e+06],\n       [5.800000e+01, 3.364000e+03],\n       [7.770000e+02, 6.037290e+05],\n       [1.501000e+03, 2.253001e+06],\n       [1.348000e+03, 1.817104e+06],\n       [1.092000e+03, 1.192464e+06],\n       [6.100000e+01, 3.721000e+03],\n       [7.830000e+02, 6.130890e+05],\n       [8.730000e+02, 7.621290e+05],\n       [4.000000e+00, 1.600000e+01],\n       [7.740000e+02, 5.990760e+05],\n       [9.200000e+02, 8.464000e+05],\n       [1.053000e+03, 1.108809e+06],\n       [1.074000e+03, 1.153476e+06],\n       [1.093000e+03, 1.194649e+06],\n       [9.150000e+02, 8.372250e+05],\n       [1.052000e+03, 1.106704e+06],\n       [1.821000e+03, 3.316041e+06],\n       [1.023000e+03, 1.046529e+06],\n       [1.708000e+03, 2.917264e+06],\n       [5.500000e+02, 3.025000e+05],\n       [1.265000e+03, 1.600225e+06],\n       [1.635000e+03, 2.673225e+06],\n       [2.390000e+02, 5.712100e+04],\n       [6.290000e+02, 3.956410e+05],\n       [8.640000e+02, 7.464960e+05],\n       [7.670000e+02, 5.882890e+05],\n       [1.631000e+03, 2.660161e+06],\n       [3.630000e+02, 1.317690e+05],\n       [1.009000e+03, 1.018081e+06],\n       [1.795000e+03, 3.222025e+06],\n       [1.706000e+03, 2.910436e+06],\n       [1.456000e+03, 2.119936e+06],\n       [1.123000e+03, 1.261129e+06],\n       [5.070000e+02, 2.570490e+05],\n       [8.620000e+02, 7.430440e+05],\n       [1.167000e+03, 1.361889e+06],\n       [3.600000e+02, 1.296000e+05],\n       [9.060000e+02, 8.208360e+05],\n       [7.090000e+02, 5.026810e+05],\n       [1.151000e+03, 1.324801e+06],\n       [8.630000e+02, 7.447690e+05],\n       [1.310000e+03, 1.716100e+06],\n       [1.193000e+03, 1.423249e+06],\n       [2.070000e+02, 4.284900e+04],\n       [1.469000e+03, 2.157961e+06],\n       [1.736000e+03, 3.013696e+06],\n       [8.270000e+02, 6.839290e+05],\n       [5.610000e+02, 3.147210e+05],\n       [1.444000e+03, 2.085136e+06],\n       [1.578000e+03, 2.490084e+06],\n       [1.412000e+03, 1.993744e+06],\n       [8.500000e+02, 7.225000e+05],\n       [1.253000e+03, 1.570009e+06],\n       [7.380000e+02, 5.446440e+05],\n       [1.734000e+03, 3.006756e+06],\n       [1.401000e+03, 1.962801e+06],\n       [1.930000e+03, 3.724900e+06],\n       [1.032000e+03, 1.065024e+06],\n       [4.180000e+02, 1.747240e+05],\n       [9.260000e+02, 8.574760e+05],\n       [1.421000e+03, 2.019241e+06],\n       [6.810000e+02, 4.637610e+05],\n       [1.354000e+03, 1.833316e+06],\n       [9.370000e+02, 8.779690e+05],\n       [9.990000e+02, 9.980010e+05],\n       [1.066000e+03, 1.136356e+06],\n       [1.265000e+03, 1.600225e+06],\n       [6.100000e+02, 3.721000e+05],\n       [1.727000e+03, 2.982529e+06],\n       [1.044000e+03, 1.089936e+06],\n       [1.117000e+03, 1.247689e+06],\n       [9.950000e+02, 9.900250e+05],\n       [1.014000e+03, 1.028196e+06],\n       [5.760000e+02, 3.317760e+05],\n       [1.400000e+03, 1.960000e+06],\n       [1.759000e+03, 3.094081e+06],\n       [1.549000e+03, 2.399401e+06],\n       [6.440000e+02, 4.147360e+05],\n       [3.600000e+01, 1.296000e+03],\n       [1.211000e+03, 1.466521e+06],\n       [1.380000e+03, 1.904400e+06],\n       [4.710000e+02, 2.218410e+05],\n       [5.530000e+02, 3.058090e+05],\n       [2.018000e+03, 4.072324e+06],\n       [1.021000e+03, 1.042441e+06],\n       [3.670000e+02, 1.346890e+05],\n       [1.142000e+03, 1.304164e+06],\n       [1.171000e+03, 1.371241e+06],\n       [9.290000e+02, 8.630410e+05],\n       [1.210000e+03, 1.464100e+06],\n       [1.710000e+03, 2.924100e+06],\n       [1.896000e+03, 3.594816e+06],\n       [1.208000e+03, 1.459264e+06],\n       [1.120000e+02, 1.254400e+04],\n       [6.170000e+02, 3.806890e+05],\n       [7.600000e+02, 5.776000e+05],\n       [8.250000e+02, 6.806250e+05],\n       [4.830000e+02, 2.332890e+05],\n       [8.600000e+02, 7.396000e+05],\n       [1.723000e+03, 2.968729e+06],\n       [1.424000e+03, 2.027776e+06],\n       [8.360000e+02, 6.988960e+05],\n       [8.300000e+02, 6.889000e+05],\n       [1.497000e+03, 2.241009e+06],\n       [8.690000e+02, 7.551610e+05],\n       [6.530000e+02, 4.264090e+05],\n       [5.230000e+02, 2.735290e+05],\n       [1.399000e+03, 1.957201e+06],\n       [4.610000e+02, 2.125210e+05],\n       [6.220000e+02, 3.868840e+05],\n       [1.018000e+03, 1.036324e+06],\n       [1.617000e+03, 2.614689e+06],\n       [8.660000e+02, 7.499560e+05],\n       [3.110000e+02, 9.672100e+04],\n       [9.410000e+02, 8.854810e+05],\n       [1.071000e+03, 1.147041e+06],\n       [2.180000e+02, 4.752400e+04],\n       [3.700000e+01, 1.369000e+03],\n       [1.724000e+03, 2.972176e+06],\n       [1.598000e+03, 2.553604e+06],\n       [3.450000e+02, 1.190250e+05],\n       [1.365000e+03, 1.863225e+06],\n       [9.540000e+02, 9.101160e+05],\n       [9.350000e+02, 8.742250e+05],\n       [6.000000e+00, 3.600000e+01],\n       [7.800000e+02, 6.084000e+05],\n       [3.370000e+02, 1.135690e+05],\n       [9.290000e+02, 8.630410e+05],\n       [7.620000e+02, 5.806440e+05],\n       [1.906000e+03, 3.632836e+06],\n       [8.220000e+02, 6.756840e+05],\n       [6.600000e+02, 4.356000e+05],\n       [1.202000e+03, 1.444804e+06],\n       [8.020000e+02, 6.432040e+05],\n       [2.325000e+03, 5.405625e+06],\n       [4.900000e+02, 2.401000e+05],\n       [1.344000e+03, 1.806336e+06],\n       [1.870000e+02, 3.496900e+04],\n       [9.820000e+02, 9.643240e+05],\n       [6.790000e+02, 4.610410e+05],\n       [6.820000e+02, 4.651240e+05],\n       [6.010000e+02, 3.612010e+05],\n       [3.200000e+01, 1.024000e+03],\n       [1.747000e+03, 3.052009e+06],\n       [1.110000e+03, 1.232100e+06],\n       [9.030000e+02, 8.154090e+05]])"
     },
     "execution_count": 22,
     "metadata": {},
     "output_type": "execute_result"
    }
   ],
   "source": [
    "X_train_transformed"
   ],
   "metadata": {
    "collapsed": false,
    "pycharm": {
     "name": "#%%\n"
    }
   }
  },
  {
   "cell_type": "code",
   "execution_count": null,
   "outputs": [],
   "source": [],
   "metadata": {
    "collapsed": false,
    "pycharm": {
     "name": "#%%\n"
    }
   }
  }
 ],
 "metadata": {
  "kernelspec": {
   "display_name": "Python 3",
   "language": "python",
   "name": "python3"
  },
  "language_info": {
   "codemirror_mode": {
    "name": "ipython",
    "version": 2
   },
   "file_extension": ".py",
   "mimetype": "text/x-python",
   "name": "python",
   "nbconvert_exporter": "python",
   "pygments_lexer": "ipython2",
   "version": "2.7.6"
  }
 },
 "nbformat": 4,
 "nbformat_minor": 0
}