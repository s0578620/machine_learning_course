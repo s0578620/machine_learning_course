{
 "cells": [
  {
   "cell_type": "markdown",
   "source": [
    "# Autowertverlust nach Kilometern"
   ],
   "metadata": {
    "collapsed": false,
    "pycharm": {
     "name": "#%% md\n"
    }
   }
  },
  {
   "cell_type": "code",
   "execution_count": 17,
   "outputs": [],
   "source": [
    "import pandas as pd     #import pandas libary (working with csv file)\n",
    "\n",
    "csvdata = pd.read_csv(\"autos_prepared.csv\")     # pd.read_excel(\"filename.xlsx\") // pd.read_csv(\"filename.csv\", sep=\";\")"
   ],
   "metadata": {
    "collapsed": false,
    "pycharm": {
     "name": "#%%\n"
    }
   }
  },
  {
   "cell_type": "code",
   "execution_count": 18,
   "outputs": [
    {
     "data": {
      "text/plain": "   price  yearOfRegistration  powerPS  kilometer   model fuelType  \\\n0   1450                1997       75      90000  andere   benzin   \n1  13100                2005      280       5000    golf   benzin   \n2   4500                2008       87      90000   yaris   benzin   \n3   6000                2009      177     125000     3er   diesel   \n4   3990                1999      118      90000     3er   benzin   \n\n                                             name  \n0          Toyota_Toyota_Starlet_1._Hand__TÜV_neu  \n1                        R32_tauschen_oder_kaufen  \n2                          Toyota_Yaris_1.3_VVT_i  \n3                      320_Alpinweiss_Kohlenstoff  \n4  BMW_318i_E46_+++_1._Hand_+++_Liebhaberfahrzeug  ",
      "text/html": "<div>\n<style scoped>\n    .dataframe tbody tr th:only-of-type {\n        vertical-align: middle;\n    }\n\n    .dataframe tbody tr th {\n        vertical-align: top;\n    }\n\n    .dataframe thead th {\n        text-align: right;\n    }\n</style>\n<table border=\"1\" class=\"dataframe\">\n  <thead>\n    <tr style=\"text-align: right;\">\n      <th></th>\n      <th>price</th>\n      <th>yearOfRegistration</th>\n      <th>powerPS</th>\n      <th>kilometer</th>\n      <th>model</th>\n      <th>fuelType</th>\n      <th>name</th>\n    </tr>\n  </thead>\n  <tbody>\n    <tr>\n      <th>0</th>\n      <td>1450</td>\n      <td>1997</td>\n      <td>75</td>\n      <td>90000</td>\n      <td>andere</td>\n      <td>benzin</td>\n      <td>Toyota_Toyota_Starlet_1._Hand__TÜV_neu</td>\n    </tr>\n    <tr>\n      <th>1</th>\n      <td>13100</td>\n      <td>2005</td>\n      <td>280</td>\n      <td>5000</td>\n      <td>golf</td>\n      <td>benzin</td>\n      <td>R32_tauschen_oder_kaufen</td>\n    </tr>\n    <tr>\n      <th>2</th>\n      <td>4500</td>\n      <td>2008</td>\n      <td>87</td>\n      <td>90000</td>\n      <td>yaris</td>\n      <td>benzin</td>\n      <td>Toyota_Yaris_1.3_VVT_i</td>\n    </tr>\n    <tr>\n      <th>3</th>\n      <td>6000</td>\n      <td>2009</td>\n      <td>177</td>\n      <td>125000</td>\n      <td>3er</td>\n      <td>diesel</td>\n      <td>320_Alpinweiss_Kohlenstoff</td>\n    </tr>\n    <tr>\n      <th>4</th>\n      <td>3990</td>\n      <td>1999</td>\n      <td>118</td>\n      <td>90000</td>\n      <td>3er</td>\n      <td>benzin</td>\n      <td>BMW_318i_E46_+++_1._Hand_+++_Liebhaberfahrzeug</td>\n    </tr>\n  </tbody>\n</table>\n</div>"
     },
     "execution_count": 18,
     "metadata": {},
     "output_type": "execute_result"
    }
   ],
   "source": [
    "csvdata.head()"
   ],
   "metadata": {
    "collapsed": false,
    "pycharm": {
     "name": "#%%\n"
    }
   }
  },
  {
   "cell_type": "code",
   "execution_count": 19,
   "outputs": [
    {
     "data": {
      "text/plain": "<function matplotlib.pyplot.show(close=None, block=None)>"
     },
     "execution_count": 19,
     "metadata": {},
     "output_type": "execute_result"
    },
    {
     "data": {
      "text/plain": "<Figure size 432x288 with 1 Axes>",
      "image/png": "[encoded data removed]"
     },
     "metadata": {
      "needs_background": "light"
     },
     "output_type": "display_data"
    }
   ],
   "source": [
    "%matplotlib inline\n",
    "# Command above: generate graphics in actual notebook\n",
    "import matplotlib.pyplot as plt # generate graphics\n",
    "\n",
    "plt.scatter(csvdata[\"kilometer\"],csvdata[\"price\"])  # scatter plot (Punktediagramm)\n",
    "plt.show"
   ],
   "metadata": {
    "collapsed": false,
    "pycharm": {
     "name": "#%%\n"
    }
   }
  },
  {
   "cell_type": "code",
   "execution_count": 20,
   "outputs": [
    {
     "name": "stdout",
     "output_type": "stream",
     "text": [
      "Intercept: [15988.72674252]\n",
      "Coef: [[-0.0879714]]\n"
     ]
    }
   ],
   "source": [
    "from sklearn.linear_model import LinearRegression   # libary -> machine learning tools\n",
    "\n",
    "model = LinearRegression()  # select \"Lineales Regressionsmodell\"\n",
    "model.fit(csvdata[[\"kilometer\"]], csvdata[[\"price\"]])   # model den daten anpassen\n",
    "\n",
    "print(\"Intercept: \" + str(model.intercept_))    # Parameter für Geradengleichung (Konstante)\n",
    "print(\"Coef: \" + str(model.coef_))  # Parameter für Geradengleichung (Koeffizient)"
   ],
   "metadata": {
    "collapsed": false,
    "pycharm": {
     "name": "#%%\n"
    }
   }
  },
  {
   "cell_type": "code",
   "execution_count": 21,
   "outputs": [],
   "source": [
    "# Wert = 15988.72674252 - 0.0879714 * 50000"
   ],
   "metadata": {
    "collapsed": false,
    "pycharm": {
     "name": "#%%\n"
    }
   }
  },
  {
   "cell_type": "code",
   "execution_count": 22,
   "outputs": [
    {
     "name": "stderr",
     "output_type": "stream",
     "text": [
      "C:\\Users\\henri\\PycharmProjects\\machine_learning_course\\machine_learning_course\\lib\\site-packages\\sklearn\\base.py:450: UserWarning: X does not have valid feature names, but LinearRegression was fitted with feature names\n",
      "  warnings.warn(\n"
     ]
    },
    {
     "data": {
      "text/plain": "array([[11590.15673393]])"
     },
     "execution_count": 22,
     "metadata": {},
     "output_type": "execute_result"
    }
   ],
   "source": [
    "model.predict([[50000]])        # Quiz result"
   ],
   "metadata": {
    "collapsed": false,
    "pycharm": {
     "name": "#%%\n"
    }
   }
  },
  {
   "cell_type": "code",
   "execution_count": 23,
   "outputs": [
    {
     "name": "stdout",
     "output_type": "stream",
     "text": [
      "[[15988.72674252]\n",
      " [ 4552.44472019]]\n"
     ]
    },
    {
     "name": "stderr",
     "output_type": "stream",
     "text": [
      "C:\\Users\\henri\\PycharmProjects\\machine_learning_course\\machine_learning_course\\lib\\site-packages\\sklearn\\base.py:450: UserWarning: X does not have valid feature names, but LinearRegression was fitted with feature names\n",
      "  warnings.warn(\n"
     ]
    }
   ],
   "source": [
    "predicted = model.predict([[0], [130000]])\n",
    "print(predicted)"
   ],
   "metadata": {
    "collapsed": false,
    "pycharm": {
     "name": "#%%\n"
    }
   }
  },
  {
   "cell_type": "code",
   "execution_count": 24,
   "outputs": [
    {
     "data": {
      "text/plain": "<Figure size 432x288 with 1 Axes>",
      "image/png": "[encoded data removed]"
     },
     "metadata": {
      "needs_background": "light"
     },
     "output_type": "display_data"
    }
   ],
   "source": [
    "%matplotlib inline\n",
    "import matplotlib.pyplot as plt\n",
    "\n",
    "plt.scatter(csvdata[\"kilometer\"], csvdata[\"price\"])\n",
    "plt.plot([0, 130000], predicted, color=\"red\")   # add predicted model with color red\n",
    "plt.show()"
   ],
   "metadata": {
    "collapsed": false,
    "pycharm": {
     "name": "#%%\n"
    }
   }
  },
  {
   "cell_type": "code",
   "execution_count": 24,
   "outputs": [],
   "source": [],
   "metadata": {
    "collapsed": false,
    "pycharm": {
     "name": "#%%\n"
    }
   }
  }
 ],
 "metadata": {
  "kernelspec": {
   "display_name": "Python 3",
   "language": "python",
   "name": "python3"
  },
  "language_info": {
   "codemirror_mode": {
    "name": "ipython",
    "version": 2
   },
   "file_extension": ".py",
   "mimetype": "text/x-python",
   "name": "python",
   "nbconvert_exporter": "python",
   "pygments_lexer": "ipython2",
   "version": "2.7.6"
  }
 },
 "nbformat": 4,
 "nbformat_minor": 0
}