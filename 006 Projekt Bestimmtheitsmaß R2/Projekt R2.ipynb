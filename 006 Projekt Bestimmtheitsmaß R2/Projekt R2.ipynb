{
 "cells": [
  {
   "cell_type": "markdown",
   "source": [
    "## Projekt Bestimmtheitsmaß R2\n",
    "\n",
    "1) Wie genau ist die bisherige Schätzung, den Preis aufgrund der Basis \"Kilometer\" zu bestimmen?\n",
    "2) Ist es sinnvoll andere Variablen in Betracht zu ziehen?"
   ],
   "metadata": {
    "collapsed": false,
    "pycharm": {
     "name": "#%% md\n"
    }
   }
  },
  {
   "cell_type": "code",
   "execution_count": 30,
   "outputs": [
    {
     "data": {
      "text/plain": "   price  yearOfRegistration  powerPS  kilometer   model fuelType  \\\n0   1450                1997       75      90000  andere   benzin   \n1  13100                2005      280       5000    golf   benzin   \n2   4500                2008       87      90000   yaris   benzin   \n3   6000                2009      177     125000     3er   diesel   \n4   3990                1999      118      90000     3er   benzin   \n\n                                             name  \n0          Toyota_Toyota_Starlet_1._Hand__TÜV_neu  \n1                        R32_tauschen_oder_kaufen  \n2                          Toyota_Yaris_1.3_VVT_i  \n3                      320_Alpinweiss_Kohlenstoff  \n4  BMW_318i_E46_+++_1._Hand_+++_Liebhaberfahrzeug  ",
      "text/html": "<div>\n<style scoped>\n    .dataframe tbody tr th:only-of-type {\n        vertical-align: middle;\n    }\n\n    .dataframe tbody tr th {\n        vertical-align: top;\n    }\n\n    .dataframe thead th {\n        text-align: right;\n    }\n</style>\n<table border=\"1\" class=\"dataframe\">\n  <thead>\n    <tr style=\"text-align: right;\">\n      <th></th>\n      <th>price</th>\n      <th>yearOfRegistration</th>\n      <th>powerPS</th>\n      <th>kilometer</th>\n      <th>model</th>\n      <th>fuelType</th>\n      <th>name</th>\n    </tr>\n  </thead>\n  <tbody>\n    <tr>\n      <th>0</th>\n      <td>1450</td>\n      <td>1997</td>\n      <td>75</td>\n      <td>90000</td>\n      <td>andere</td>\n      <td>benzin</td>\n      <td>Toyota_Toyota_Starlet_1._Hand__TÜV_neu</td>\n    </tr>\n    <tr>\n      <th>1</th>\n      <td>13100</td>\n      <td>2005</td>\n      <td>280</td>\n      <td>5000</td>\n      <td>golf</td>\n      <td>benzin</td>\n      <td>R32_tauschen_oder_kaufen</td>\n    </tr>\n    <tr>\n      <th>2</th>\n      <td>4500</td>\n      <td>2008</td>\n      <td>87</td>\n      <td>90000</td>\n      <td>yaris</td>\n      <td>benzin</td>\n      <td>Toyota_Yaris_1.3_VVT_i</td>\n    </tr>\n    <tr>\n      <th>3</th>\n      <td>6000</td>\n      <td>2009</td>\n      <td>177</td>\n      <td>125000</td>\n      <td>3er</td>\n      <td>diesel</td>\n      <td>320_Alpinweiss_Kohlenstoff</td>\n    </tr>\n    <tr>\n      <th>4</th>\n      <td>3990</td>\n      <td>1999</td>\n      <td>118</td>\n      <td>90000</td>\n      <td>3er</td>\n      <td>benzin</td>\n      <td>BMW_318i_E46_+++_1._Hand_+++_Liebhaberfahrzeug</td>\n    </tr>\n  </tbody>\n</table>\n</div>"
     },
     "execution_count": 30,
     "metadata": {},
     "output_type": "execute_result"
    }
   ],
   "source": [
    "import pandas as pd\n",
    "\n",
    "df = pd.read_csv(\"./autos_prepared.csv\")\n",
    "df.head()"
   ],
   "metadata": {
    "collapsed": false,
    "pycharm": {
     "name": "#%%\n"
    }
   }
  },
  {
   "cell_type": "markdown",
   "source": [
    "## Train / Test - 1"
   ],
   "metadata": {
    "collapsed": false,
    "pycharm": {
     "name": "#%% md\n"
    }
   }
  },
  {
   "cell_type": "code",
   "execution_count": 31,
   "outputs": [],
   "source": [
    "from sklearn.model_selection import train_test_split    # libary -> zum daten aufsplitten\n",
    "\n",
    "X = df[[\"kilometer\"]].values    # safe only values (without header = second [])\n",
    "Y = df[[\"price\"]].values   # numpy array\n",
    "\n",
    "# audfteilung der werte X,Y auf deklaration //  random_state = rnd aufteilen // test_size = prozentualer anteil für test daten\n",
    "X_train, X_test, y_train, y_test = train_test_split(X, Y, random_state = 0, test_size = 0.25)"
   ],
   "metadata": {
    "collapsed": false,
    "pycharm": {
     "name": "#%%\n"
    }
   }
  },
  {
   "cell_type": "markdown",
   "source": [
    "## Lineare Regression - 1"
   ],
   "metadata": {
    "collapsed": false,
    "pycharm": {
     "name": "#%% md\n"
    }
   }
  },
  {
   "cell_type": "code",
   "execution_count": 32,
   "outputs": [
    {
     "name": "stdout",
     "output_type": "stream",
     "text": [
      "0.295723820066934\n"
     ]
    }
   ],
   "source": [
    "from sklearn.linear_model import LinearRegression\n",
    "\n",
    "model = LinearRegression()\n",
    "model.fit(X_train, y_train)\n",
    "print(model.score(X_test, y_test))"
   ],
   "metadata": {
    "collapsed": false,
    "pycharm": {
     "name": "#%%\n"
    }
   }
  },
  {
   "cell_type": "markdown",
   "source": [
    "## Train / Test - 2"
   ],
   "metadata": {
    "collapsed": false,
    "pycharm": {
     "name": "#%% md\n"
    }
   }
  },
  {
   "cell_type": "code",
   "execution_count": 33,
   "outputs": [],
   "source": [
    "from sklearn.model_selection import train_test_split    # libary -> zum daten aufsplitten\n",
    "\n",
    "X = df[[\"kilometer\",\"powerPS\"]].values    # safe only values (without header = second [])\n",
    "Y = df[[\"price\"]].values   # numpy array\n",
    "\n",
    "# audfteilung der werte X,Y auf deklaration //  random_state = rnd aufteilen // test_size = prozentualer anteil für test daten\n",
    "X_train, X_test, y_train, y_test = train_test_split(X, Y, random_state = 0, test_size = 0.25)"
   ],
   "metadata": {
    "collapsed": false,
    "pycharm": {
     "name": "#%%\n"
    }
   }
  },
  {
   "cell_type": "markdown",
   "source": [
    "## Lineare Regression - 2"
   ],
   "metadata": {
    "collapsed": false,
    "pycharm": {
     "name": "#%% md\n"
    }
   }
  },
  {
   "cell_type": "code",
   "execution_count": 34,
   "outputs": [
    {
     "name": "stdout",
     "output_type": "stream",
     "text": [
      "0.6290548697897331\n"
     ]
    }
   ],
   "source": [
    "from sklearn.linear_model import LinearRegression\n",
    "\n",
    "model = LinearRegression()\n",
    "model.fit(X_train, y_train)\n",
    "print(model.score(X_test, y_test))"
   ],
   "metadata": {
    "collapsed": false,
    "pycharm": {
     "name": "#%%\n"
    }
   }
  }
 ],
 "metadata": {
  "kernelspec": {
   "display_name": "Python 3",
   "language": "python",
   "name": "python3"
  },
  "language_info": {
   "codemirror_mode": {
    "name": "ipython",
    "version": 2
   },
   "file_extension": ".py",
   "mimetype": "text/x-python",
   "name": "python",
   "nbconvert_exporter": "python",
   "pygments_lexer": "ipython2",
   "version": "2.7.6"
  }
 },
 "nbformat": 4,
 "nbformat_minor": 0
}