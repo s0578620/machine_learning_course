{
 "cells": [
  {
   "cell_type": "markdown",
   "source": [
    "# Lineare Regression mit mehreren Variablen"
   ],
   "metadata": {
    "collapsed": false,
    "pycharm": {
     "name": "#%% md\n"
    }
   }
  },
  {
   "cell_type": "code",
   "execution_count": 22,
   "outputs": [],
   "source": [
    "import pandas as pd #import pandas libary (working with csv file)\n",
    "\n",
    "csvdata = pd.read_csv(\"./hotels.csv\")   # pd.read_excel(\"filename.xlsx\") // pd.read_csv(\"filename.csv\", sep=\";\")"
   ],
   "metadata": {
    "collapsed": false,
    "pycharm": {
     "name": "#%%\n"
    }
   }
  },
  {
   "cell_type": "code",
   "execution_count": 23,
   "outputs": [
    {
     "data": {
      "text/plain": "     Gewinn  Preis in Mio  Quadratmeter    Stadt\n0  119000.0         21.88        3938.0   Berlin\n1  250000.0         27.95        3986.0  München\n2  250000.0         16.09        2574.0     Köln\n3  145000.0         27.58        4155.0  München\n4  110000.0         23.76        3795.0   Berlin",
      "text/html": "<div>\n<style scoped>\n    .dataframe tbody tr th:only-of-type {\n        vertical-align: middle;\n    }\n\n    .dataframe tbody tr th {\n        vertical-align: top;\n    }\n\n    .dataframe thead th {\n        text-align: right;\n    }\n</style>\n<table border=\"1\" class=\"dataframe\">\n  <thead>\n    <tr style=\"text-align: right;\">\n      <th></th>\n      <th>Gewinn</th>\n      <th>Preis in Mio</th>\n      <th>Quadratmeter</th>\n      <th>Stadt</th>\n    </tr>\n  </thead>\n  <tbody>\n    <tr>\n      <th>0</th>\n      <td>119000.0</td>\n      <td>21.88</td>\n      <td>3938.0</td>\n      <td>Berlin</td>\n    </tr>\n    <tr>\n      <th>1</th>\n      <td>250000.0</td>\n      <td>27.95</td>\n      <td>3986.0</td>\n      <td>München</td>\n    </tr>\n    <tr>\n      <th>2</th>\n      <td>250000.0</td>\n      <td>16.09</td>\n      <td>2574.0</td>\n      <td>Köln</td>\n    </tr>\n    <tr>\n      <th>3</th>\n      <td>145000.0</td>\n      <td>27.58</td>\n      <td>4155.0</td>\n      <td>München</td>\n    </tr>\n    <tr>\n      <th>4</th>\n      <td>110000.0</td>\n      <td>23.76</td>\n      <td>3795.0</td>\n      <td>Berlin</td>\n    </tr>\n  </tbody>\n</table>\n</div>"
     },
     "execution_count": 23,
     "metadata": {},
     "output_type": "execute_result"
    }
   ],
   "source": [
    "csvdata.head()"
   ],
   "metadata": {
    "collapsed": false,
    "pycharm": {
     "name": "#%%\n"
    }
   }
  },
  {
   "cell_type": "code",
   "execution_count": 24,
   "outputs": [],
   "source": [
    "X = csvdata[[\"Gewinn\", \"Quadratmeter\"]].values  # safe only values (without header = second [])\n",
    "Y = csvdata[[\"Preis in Mio\"]].values    # numpy array"
   ],
   "metadata": {
    "collapsed": false,
    "pycharm": {
     "name": "#%%\n"
    }
   }
  },
  {
   "cell_type": "code",
   "execution_count": 25,
   "outputs": [],
   "source": [
    "from sklearn.model_selection import train_test_split    # libary -> zum daten aufsplitten\n",
    "\n",
    "# audfteilung der werte X,Y auf deklaration //  random_state = rnd aufteilen // test_size = prozentualer anteil für test daten\n",
    "X_train, X_test, y_train, y_test = train_test_split(X, Y, random_state = 0, test_size = 0.25)"
   ],
   "metadata": {
    "collapsed": false,
    "pycharm": {
     "name": "#%%\n"
    }
   }
  },
  {
   "cell_type": "code",
   "execution_count": 26,
   "outputs": [
    {
     "data": {
      "text/plain": "LinearRegression()",
      "text/html": "<style>#sk-container-id-3 {color: black;background-color: white;}#sk-container-id-3 pre{padding: 0;}#sk-container-id-3 div.sk-toggleable {background-color: white;}#sk-container-id-3 label.sk-toggleable__label {cursor: pointer;display: block;width: 100%;margin-bottom: 0;padding: 0.3em;box-sizing: border-box;text-align: center;}#sk-container-id-3 label.sk-toggleable__label-arrow:before {content: \"▸\";float: left;margin-right: 0.25em;color: #696969;}#sk-container-id-3 label.sk-toggleable__label-arrow:hover:before {color: black;}#sk-container-id-3 div.sk-estimator:hover label.sk-toggleable__label-arrow:before {color: black;}#sk-container-id-3 div.sk-toggleable__content {max-height: 0;max-width: 0;overflow: hidden;text-align: left;background-color: #f0f8ff;}#sk-container-id-3 div.sk-toggleable__content pre {margin: 0.2em;color: black;border-radius: 0.25em;background-color: #f0f8ff;}#sk-container-id-3 input.sk-toggleable__control:checked~div.sk-toggleable__content {max-height: 200px;max-width: 100%;overflow: auto;}#sk-container-id-3 input.sk-toggleable__control:checked~label.sk-toggleable__label-arrow:before {content: \"▾\";}#sk-container-id-3 div.sk-estimator input.sk-toggleable__control:checked~label.sk-toggleable__label {background-color: #d4ebff;}#sk-container-id-3 div.sk-label input.sk-toggleable__control:checked~label.sk-toggleable__label {background-color: #d4ebff;}#sk-container-id-3 input.sk-hidden--visually {border: 0;clip: rect(1px 1px 1px 1px);clip: rect(1px, 1px, 1px, 1px);height: 1px;margin: -1px;overflow: hidden;padding: 0;position: absolute;width: 1px;}#sk-container-id-3 div.sk-estimator {font-family: monospace;background-color: #f0f8ff;border: 1px dotted black;border-radius: 0.25em;box-sizing: border-box;margin-bottom: 0.5em;}#sk-container-id-3 div.sk-estimator:hover {background-color: #d4ebff;}#sk-container-id-3 div.sk-parallel-item::after {content: \"\";width: 100%;border-bottom: 1px solid gray;flex-grow: 1;}#sk-container-id-3 div.sk-label:hover label.sk-toggleable__label {background-color: #d4ebff;}#sk-container-id-3 div.sk-serial::before {content: \"\";position: absolute;border-left: 1px solid gray;box-sizing: border-box;top: 0;bottom: 0;left: 50%;z-index: 0;}#sk-container-id-3 div.sk-serial {display: flex;flex-direction: column;align-items: center;background-color: white;padding-right: 0.2em;padding-left: 0.2em;position: relative;}#sk-container-id-3 div.sk-item {position: relative;z-index: 1;}#sk-container-id-3 div.sk-parallel {display: flex;align-items: stretch;justify-content: center;background-color: white;position: relative;}#sk-container-id-3 div.sk-item::before, #sk-container-id-3 div.sk-parallel-item::before {content: \"\";position: absolute;border-left: 1px solid gray;box-sizing: border-box;top: 0;bottom: 0;left: 50%;z-index: -1;}#sk-container-id-3 div.sk-parallel-item {display: flex;flex-direction: column;z-index: 1;position: relative;background-color: white;}#sk-container-id-3 div.sk-parallel-item:first-child::after {align-self: flex-end;width: 50%;}#sk-container-id-3 div.sk-parallel-item:last-child::after {align-self: flex-start;width: 50%;}#sk-container-id-3 div.sk-parallel-item:only-child::after {width: 0;}#sk-container-id-3 div.sk-dashed-wrapped {border: 1px dashed gray;margin: 0 0.4em 0.5em 0.4em;box-sizing: border-box;padding-bottom: 0.4em;background-color: white;}#sk-container-id-3 div.sk-label label {font-family: monospace;font-weight: bold;display: inline-block;line-height: 1.2em;}#sk-container-id-3 div.sk-label-container {text-align: center;}#sk-container-id-3 div.sk-container {/* jupyter's `normalize.less` sets `[hidden] { display: none; }` but bootstrap.min.css set `[hidden] { display: none !important; }` so we also need the `!important` here to be able to override the default hidden behavior on the sphinx rendered scikit-learn.org. See: https://github.com/scikit-learn/scikit-learn/issues/21755 */display: inline-block !important;position: relative;}#sk-container-id-3 div.sk-text-repr-fallback {display: none;}</style><div id=\"sk-container-id-3\" class=\"sk-top-container\"><div class=\"sk-text-repr-fallback\"><pre>LinearRegression()</pre><b>In a Jupyter environment, please rerun this cell to show the HTML representation or trust the notebook. <br />On GitHub, the HTML representation is unable to render, please try loading this page with nbviewer.org.</b></div><div class=\"sk-container\" hidden><div class=\"sk-item\"><div class=\"sk-estimator sk-toggleable\"><input class=\"sk-toggleable__control sk-hidden--visually\" id=\"sk-estimator-id-3\" type=\"checkbox\" checked><label for=\"sk-estimator-id-3\" class=\"sk-toggleable__label sk-toggleable__label-arrow\">LinearRegression</label><div class=\"sk-toggleable__content\"><pre>LinearRegression()</pre></div></div></div></div></div>"
     },
     "execution_count": 26,
     "metadata": {},
     "output_type": "execute_result"
    }
   ],
   "source": [
    "from sklearn.linear_model import LinearRegression\n",
    "\n",
    "model = LinearRegression()\n",
    "model.fit(X_train, y_train)"
   ],
   "metadata": {
    "collapsed": false,
    "pycharm": {
     "name": "#%%\n"
    }
   }
  },
  {
   "cell_type": "code",
   "execution_count": 27,
   "outputs": [
    {
     "name": "stdout",
     "output_type": "stream",
     "text": [
      "[6.48370247]\n"
     ]
    }
   ],
   "source": [
    "print(model.intercept_)"
   ],
   "metadata": {
    "collapsed": false,
    "pycharm": {
     "name": "#%%\n"
    }
   }
  },
  {
   "cell_type": "code",
   "execution_count": 28,
   "outputs": [
    {
     "name": "stdout",
     "output_type": "stream",
     "text": [
      "[[6.39855984e-06 3.89642288e-03]]\n"
     ]
    }
   ],
   "source": [
    "print(model.coef_)"
   ],
   "metadata": {
    "collapsed": false,
    "pycharm": {
     "name": "#%%\n"
    }
   }
  },
  {
   "cell_type": "code",
   "execution_count": 29,
   "outputs": [],
   "source": [
    "# 6.48370247 + [Gewinn] * 6.39855984e-06 + [Quadrameter] * 3.89642288e-03"
   ],
   "metadata": {
    "collapsed": false,
    "pycharm": {
     "name": "#%%\n"
    }
   }
  },
  {
   "cell_type": "code",
   "execution_count": 30,
   "outputs": [],
   "source": [
    "y_test_pred = model.predict(X_test)\n"
   ],
   "metadata": {
    "collapsed": false,
    "pycharm": {
     "name": "#%%\n"
    }
   }
  },
  {
   "cell_type": "code",
   "execution_count": 31,
   "outputs": [
    {
     "data": {
      "text/plain": "array([[15.48428777],\n       [19.25848937],\n       [13.05937756],\n       [25.49068515],\n       [ 6.81600627],\n       [21.62782213],\n       [13.89794657],\n       [11.48552582],\n       [13.36299543],\n       [30.30074569],\n       [14.54450876],\n       [24.78636769],\n       [22.51853591],\n       [17.36475207],\n       [14.6587811 ],\n       [ 9.37005463],\n       [21.41982044],\n       [ 6.94709036],\n       [11.35222603],\n       [17.65669735],\n       [29.27103676],\n       [ 7.17558502],\n       [21.88603479],\n       [21.65328149],\n       [19.90957541],\n       [16.73928148],\n       [27.34973807],\n       [28.53818494],\n       [13.89007794],\n       [12.50191932],\n       [10.68589983],\n       [ 9.42238885],\n       [10.12896444],\n       [ 9.83562033],\n       [15.90798701],\n       [13.00094789],\n       [17.32972215],\n       [18.35066072]])"
     },
     "execution_count": 31,
     "metadata": {},
     "output_type": "execute_result"
    }
   ],
   "source": [
    " y_test_pred     # = vorausgesagten werte"
   ],
   "metadata": {
    "collapsed": false,
    "pycharm": {
     "name": "#%%\n"
    }
   }
  },
  {
   "cell_type": "code",
   "execution_count": 32,
   "outputs": [
    {
     "data": {
      "text/plain": "array([[14.56],\n       [16.32],\n       [13.09],\n       [22.87],\n       [ 8.94],\n       [19.13],\n       [13.77],\n       [ 9.63],\n       [10.41],\n       [32.78],\n       [12.98],\n       [23.6 ],\n       [20.27],\n       [21.26],\n       [13.86],\n       [ 9.76],\n       [24.81],\n       [ 6.62],\n       [ 8.69],\n       [14.16],\n       [28.49],\n       [ 6.95],\n       [22.4 ],\n       [24.87],\n       [16.94],\n       [15.54],\n       [24.78],\n       [30.14],\n       [16.15],\n       [17.75],\n       [ 7.91],\n       [ 7.98],\n       [ 6.73],\n       [ 6.3 ],\n       [13.21],\n       [10.94],\n       [19.59],\n       [15.18]])"
     },
     "execution_count": 32,
     "metadata": {},
     "output_type": "execute_result"
    }
   ],
   "source": [
    " y_test    #   = echten werte"
   ],
   "metadata": {
    "collapsed": false,
    "pycharm": {
     "name": "#%%\n"
    }
   }
  },
  {
   "cell_type": "code",
   "execution_count": 33,
   "outputs": [
    {
     "name": "stdout",
     "output_type": "stream",
     "text": [
      "15.484287770456307 - 14.56\n",
      "19.25848936697959 - 16.32\n",
      "13.059377556544964 - 13.09\n",
      "25.490685154062852 - 22.87\n",
      "6.8160062670562525 - 8.94\n",
      "21.627822128095936 - 19.13\n",
      "13.89794656549663 - 13.77\n",
      "11.48552582135802 - 9.63\n",
      "13.362995432755909 - 10.41\n",
      "30.300745693396017 - 32.78\n",
      "14.544508758730883 - 12.98\n",
      "24.786367694531798 - 23.6\n",
      "22.5185359125309 - 20.27\n",
      "17.364752070043462 - 21.26\n",
      "14.658781101070202 - 13.86\n",
      "9.370054632254531 - 9.76\n",
      "21.419820437400865 - 24.81\n",
      "6.947090359060695 - 6.62\n",
      "11.352226027295266 - 8.69\n",
      "17.656697351169136 - 14.16\n",
      "29.271036764081238 - 28.49\n",
      "7.1755850230725 - 6.95\n",
      "21.886034785667135 - 22.4\n",
      "21.653281486765614 - 24.87\n",
      "19.90957541499908 - 16.94\n",
      "16.739281476364937 - 15.54\n",
      "27.349738072086637 - 24.78\n",
      "28.538184939132954 - 30.14\n",
      "13.890077942623035 - 16.15\n",
      "12.501919323322051 - 17.75\n",
      "10.685899826208408 - 7.91\n",
      "9.422388850520344 - 7.98\n",
      "10.128964442111489 - 6.73\n",
      "9.835620333614967 - 6.3\n",
      "15.90798700549315 - 13.21\n",
      "13.00094788689616 - 10.94\n",
      "17.329722152677313 - 19.59\n",
      "18.350660724427478 - 15.18\n"
     ]
    }
   ],
   "source": [
    "for i in range(0, len(y_test_pred)):    # von 0 bis anzahl der elemente in den test daten\n",
    "    print(str(y_test_pred[i][0]) + \" - \" + str(y_test[i][0]))"
   ],
   "metadata": {
    "collapsed": false,
    "pycharm": {
     "name": "#%%\n"
    }
   }
  },
  {
   "cell_type": "code",
   "execution_count": 33,
   "outputs": [],
   "source": [],
   "metadata": {
    "collapsed": false,
    "pycharm": {
     "name": "#%%\n"
    }
   }
  }
 ],
 "metadata": {
  "kernelspec": {
   "display_name": "Python 3",
   "language": "python",
   "name": "python3"
  },
  "language_info": {
   "codemirror_mode": {
    "name": "ipython",
    "version": 2
   },
   "file_extension": ".py",
   "mimetype": "text/x-python",
   "name": "python",
   "nbconvert_exporter": "python",
   "pygments_lexer": "ipython2",
   "version": "2.7.6"
  }
 },
 "nbformat": 4,
 "nbformat_minor": 0
}